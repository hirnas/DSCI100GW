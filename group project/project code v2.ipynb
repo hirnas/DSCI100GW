{
 "cells": [
  {
   "cell_type": "code",
   "execution_count": 1,
   "id": "783bddf3-6fbb-45ba-8efc-16b0fb4ac54a",
   "metadata": {},
   "outputs": [
    {
     "name": "stderr",
     "output_type": "stream",
     "text": [
      "── \u001b[1mAttaching packages\u001b[22m ─────────────────────────────────────── tidyverse 1.3.1 ──\n",
      "\n",
      "\u001b[32m✔\u001b[39m \u001b[34mggplot2\u001b[39m 3.3.6     \u001b[32m✔\u001b[39m \u001b[34mpurrr  \u001b[39m 0.3.4\n",
      "\u001b[32m✔\u001b[39m \u001b[34mtibble \u001b[39m 3.1.7     \u001b[32m✔\u001b[39m \u001b[34mdplyr  \u001b[39m 1.0.9\n",
      "\u001b[32m✔\u001b[39m \u001b[34mtidyr  \u001b[39m 1.2.0     \u001b[32m✔\u001b[39m \u001b[34mstringr\u001b[39m 1.4.0\n",
      "\u001b[32m✔\u001b[39m \u001b[34mreadr  \u001b[39m 2.1.2     \u001b[32m✔\u001b[39m \u001b[34mforcats\u001b[39m 0.5.1\n",
      "\n",
      "── \u001b[1mConflicts\u001b[22m ────────────────────────────────────────── tidyverse_conflicts() ──\n",
      "\u001b[31m✖\u001b[39m \u001b[34mdplyr\u001b[39m::\u001b[32mfilter()\u001b[39m masks \u001b[34mstats\u001b[39m::filter()\n",
      "\u001b[31m✖\u001b[39m \u001b[34mdplyr\u001b[39m::\u001b[32mlag()\u001b[39m    masks \u001b[34mstats\u001b[39m::lag()\n",
      "\n",
      "── \u001b[1mAttaching packages\u001b[22m ────────────────────────────────────── tidymodels 1.0.0 ──\n",
      "\n",
      "\u001b[32m✔\u001b[39m \u001b[34mbroom       \u001b[39m 1.0.0     \u001b[32m✔\u001b[39m \u001b[34mrsample     \u001b[39m 1.0.0\n",
      "\u001b[32m✔\u001b[39m \u001b[34mdials       \u001b[39m 1.0.0     \u001b[32m✔\u001b[39m \u001b[34mtune        \u001b[39m 1.0.0\n",
      "\u001b[32m✔\u001b[39m \u001b[34minfer       \u001b[39m 1.0.2     \u001b[32m✔\u001b[39m \u001b[34mworkflows   \u001b[39m 1.0.0\n",
      "\u001b[32m✔\u001b[39m \u001b[34mmodeldata   \u001b[39m 1.0.0     \u001b[32m✔\u001b[39m \u001b[34mworkflowsets\u001b[39m 1.0.0\n",
      "\u001b[32m✔\u001b[39m \u001b[34mparsnip     \u001b[39m 1.0.0     \u001b[32m✔\u001b[39m \u001b[34myardstick   \u001b[39m 1.0.0\n",
      "\u001b[32m✔\u001b[39m \u001b[34mrecipes     \u001b[39m 1.0.1     \n",
      "\n",
      "── \u001b[1mConflicts\u001b[22m ───────────────────────────────────────── tidymodels_conflicts() ──\n",
      "\u001b[31m✖\u001b[39m \u001b[34mscales\u001b[39m::\u001b[32mdiscard()\u001b[39m masks \u001b[34mpurrr\u001b[39m::discard()\n",
      "\u001b[31m✖\u001b[39m \u001b[34mdplyr\u001b[39m::\u001b[32mfilter()\u001b[39m   masks \u001b[34mstats\u001b[39m::filter()\n",
      "\u001b[31m✖\u001b[39m \u001b[34mrecipes\u001b[39m::\u001b[32mfixed()\u001b[39m  masks \u001b[34mstringr\u001b[39m::fixed()\n",
      "\u001b[31m✖\u001b[39m \u001b[34mdplyr\u001b[39m::\u001b[32mlag()\u001b[39m      masks \u001b[34mstats\u001b[39m::lag()\n",
      "\u001b[31m✖\u001b[39m \u001b[34myardstick\u001b[39m::\u001b[32mspec()\u001b[39m masks \u001b[34mreadr\u001b[39m::spec()\n",
      "\u001b[31m✖\u001b[39m \u001b[34mrecipes\u001b[39m::\u001b[32mstep()\u001b[39m   masks \u001b[34mstats\u001b[39m::step()\n",
      "\u001b[34m•\u001b[39m Dig deeper into tidy modeling with R at \u001b[32mhttps://www.tmwr.org\u001b[39m\n",
      "\n",
      "\n",
      "Attaching package: ‘gridExtra’\n",
      "\n",
      "\n",
      "The following object is masked from ‘package:dplyr’:\n",
      "\n",
      "    combine\n",
      "\n",
      "\n"
     ]
    }
   ],
   "source": [
    "#load libraries\n",
    "library(tidyverse)\n",
    "library(repr)\n",
    "library(tidymodels)\n",
    "library(ggplot2)\n",
    "library(gridExtra)\n",
    "library(stringr)"
   ]
  },
  {
   "cell_type": "markdown",
   "id": "77ef3150-ecd2-458a-ac65-1cb925c3db14",
   "metadata": {},
   "source": [
    "The data we have chosen are the statistics of the top 500 players, which gives the statistics of the top 500 tennis players. By using this dataset, we can predict how the age of tennis players and the prize money received will affect their ranking."
   ]
  },
  {
   "cell_type": "code",
   "execution_count": 2,
   "id": "ef9e4d5a-1c5a-4782-bc35-4a8e7ca4e521",
   "metadata": {},
   "outputs": [
    {
     "name": "stderr",
     "output_type": "stream",
     "text": [
      "\u001b[1m\u001b[22mNew names:\n",
      "\u001b[36m•\u001b[39m `` -> `...1`\n",
      "\u001b[1mRows: \u001b[22m\u001b[34m500\u001b[39m \u001b[1mColumns: \u001b[22m\u001b[34m38\u001b[39m\n",
      "\u001b[36m──\u001b[39m \u001b[1mColumn specification\u001b[22m \u001b[36m────────────────────────────────────────────────────────\u001b[39m\n",
      "\u001b[1mDelimiter:\u001b[22m \",\"\n",
      "\u001b[31mchr\u001b[39m (25): Age, Country, Plays, Wikipedia, Current Rank, Best Rank, Name, Bac...\n",
      "\u001b[32mdbl\u001b[39m (13): ...1, Turned Pro, Seasons, Titles, Best Season, Retired, Masters, ...\n",
      "\n",
      "\u001b[36mℹ\u001b[39m Use `spec()` to retrieve the full column specification for this data.\n",
      "\u001b[36mℹ\u001b[39m Specify the column types or set `show_col_types = FALSE` to quiet this message.\n"
     ]
    }
   ],
   "source": [
    "#using the read_csv function to load data from web\n",
    "tennis <- read_csv(\"https://drive.google.com/uc?export=download&id=1_MECmUXZuuILYeEOfonSGqodW6qVdhsS\")"
   ]
  },
  {
   "cell_type": "code",
   "execution_count": 3,
   "id": "00a72f71-b3cc-453f-9002-f709c95566fe",
   "metadata": {},
   "outputs": [
    {
     "data": {
      "text/html": [
       "<table class=\"dataframe\">\n",
       "<caption>A tibble: 1 × 3</caption>\n",
       "<thead>\n",
       "\t<tr><th scope=col>Age</th><th scope=col>Prize</th><th scope=col>Current_rank</th></tr>\n",
       "\t<tr><th scope=col>&lt;int&gt;</th><th scope=col>&lt;int&gt;</th><th scope=col>&lt;int&gt;</th></tr>\n",
       "</thead>\n",
       "<tbody>\n",
       "\t<tr><td>1</td><td>81</td><td>5</td></tr>\n",
       "</tbody>\n",
       "</table>\n"
      ],
      "text/latex": [
       "A tibble: 1 × 3\n",
       "\\begin{tabular}{lll}\n",
       " Age & Prize & Current\\_rank\\\\\n",
       " <int> & <int> & <int>\\\\\n",
       "\\hline\n",
       "\t 1 & 81 & 5\\\\\n",
       "\\end{tabular}\n"
      ],
      "text/markdown": [
       "\n",
       "A tibble: 1 × 3\n",
       "\n",
       "| Age &lt;int&gt; | Prize &lt;int&gt; | Current_rank &lt;int&gt; |\n",
       "|---|---|---|\n",
       "| 1 | 81 | 5 |\n",
       "\n"
      ],
      "text/plain": [
       "  Age Prize Current_rank\n",
       "1 1   81    5           "
      ]
     },
     "metadata": {},
     "output_type": "display_data"
    }
   ],
   "source": [
    "set.seed(999)\n",
    "#select the variables we want to use and check how many NA rows there are in each column.\n",
    "tennis_data <- tennis |>\n",
    "  select(Age, 'Prize Money', 'Current Rank') |>\n",
    "map_df(~sum(is.na(.)))\n",
    "names(tennis_data) <- c(\"Age\", \"Prize\", \"Current_rank\")\n",
    "tennis_data"
   ]
  },
  {
   "cell_type": "code",
   "execution_count": 4,
   "id": "92d74d1e-98e7-4b81-b991-16d267ed84ba",
   "metadata": {},
   "outputs": [
    {
     "data": {
      "text/html": [
       "<table class=\"dataframe\">\n",
       "<caption>A tibble: 6 × 3</caption>\n",
       "<thead>\n",
       "\t<tr><th scope=col>Age</th><th scope=col>Prize</th><th scope=col>Current_rank</th></tr>\n",
       "\t<tr><th scope=col>&lt;chr&gt;</th><th scope=col>&lt;chr&gt;</th><th scope=col>&lt;chr&gt;</th></tr>\n",
       "</thead>\n",
       "<tbody>\n",
       "\t<tr><td>26 (25-04-1993)</td><td>NA          </td><td>378 (97) </td></tr>\n",
       "\t<tr><td>18 (22-12-2001)</td><td>$59,040     </td><td>326 (119)</td></tr>\n",
       "\t<tr><td>32 (03-11-1987)</td><td>US$3,261,567</td><td>178 (280)</td></tr>\n",
       "\t<tr><td>21 (29-05-1998)</td><td>$374,093    </td><td>236 (199)</td></tr>\n",
       "\t<tr><td>27 (21-10-1992)</td><td>US$6,091,971</td><td>183 (273)</td></tr>\n",
       "\t<tr><td>22 (11-02-1997)</td><td>$1,517,157  </td><td>31 (1398)</td></tr>\n",
       "</tbody>\n",
       "</table>\n"
      ],
      "text/latex": [
       "A tibble: 6 × 3\n",
       "\\begin{tabular}{lll}\n",
       " Age & Prize & Current\\_rank\\\\\n",
       " <chr> & <chr> & <chr>\\\\\n",
       "\\hline\n",
       "\t 26 (25-04-1993) & NA           & 378 (97) \\\\\n",
       "\t 18 (22-12-2001) & \\$59,040      & 326 (119)\\\\\n",
       "\t 32 (03-11-1987) & US\\$3,261,567 & 178 (280)\\\\\n",
       "\t 21 (29-05-1998) & \\$374,093     & 236 (199)\\\\\n",
       "\t 27 (21-10-1992) & US\\$6,091,971 & 183 (273)\\\\\n",
       "\t 22 (11-02-1997) & \\$1,517,157   & 31 (1398)\\\\\n",
       "\\end{tabular}\n"
      ],
      "text/markdown": [
       "\n",
       "A tibble: 6 × 3\n",
       "\n",
       "| Age &lt;chr&gt; | Prize &lt;chr&gt; | Current_rank &lt;chr&gt; |\n",
       "|---|---|---|\n",
       "| 26 (25-04-1993) | NA           | 378 (97)  |\n",
       "| 18 (22-12-2001) | $59,040      | 326 (119) |\n",
       "| 32 (03-11-1987) | US$3,261,567 | 178 (280) |\n",
       "| 21 (29-05-1998) | $374,093     | 236 (199) |\n",
       "| 27 (21-10-1992) | US$6,091,971 | 183 (273) |\n",
       "| 22 (11-02-1997) | $1,517,157   | 31 (1398) |\n",
       "\n"
      ],
      "text/plain": [
       "  Age             Prize        Current_rank\n",
       "1 26 (25-04-1993) NA           378 (97)    \n",
       "2 18 (22-12-2001) $59,040      326 (119)   \n",
       "3 32 (03-11-1987) US$3,261,567 178 (280)   \n",
       "4 21 (29-05-1998) $374,093     236 (199)   \n",
       "5 27 (21-10-1992) US$6,091,971 183 (273)   \n",
       "6 22 (11-02-1997) $1,517,157   31 (1398)   "
      ]
     },
     "metadata": {},
     "output_type": "display_data"
    }
   ],
   "source": [
    "set.seed(999)\n",
    "#check the values of each column\n",
    "tennis_data <- tennis |>\n",
    "select(Age, 'Prize Money', 'Current Rank') \n",
    "names(tennis_data) <- c(\"Age\", \"Prize\", \"Current_rank\")\n",
    "tennis_data <- tennis_data |>\n",
    "  select(Age, Prize, Current_rank)\n",
    "head(tennis_data)"
   ]
  },
  {
   "cell_type": "code",
   "execution_count": 5,
   "id": "5ae0efcf-0626-4a63-b0e9-32c68e419eb0",
   "metadata": {},
   "outputs": [
    {
     "data": {
      "text/html": [
       "<table class=\"dataframe\">\n",
       "<caption>A tibble: 6 × 3</caption>\n",
       "<thead>\n",
       "\t<tr><th scope=col>Age</th><th scope=col>Prize</th><th scope=col>rank_top_150</th></tr>\n",
       "\t<tr><th scope=col>&lt;dbl&gt;</th><th scope=col>&lt;dbl&gt;</th><th scope=col>&lt;fct&gt;</th></tr>\n",
       "</thead>\n",
       "<tbody>\n",
       "\t<tr><td>18</td><td>  59040</td><td>not top 150</td></tr>\n",
       "\t<tr><td>32</td><td>3261567</td><td>not top 150</td></tr>\n",
       "\t<tr><td>21</td><td> 374093</td><td>not top 150</td></tr>\n",
       "\t<tr><td>27</td><td>6091971</td><td>not top 150</td></tr>\n",
       "\t<tr><td>22</td><td>1517157</td><td>top 150    </td></tr>\n",
       "\t<tr><td>28</td><td> 278709</td><td>not top 150</td></tr>\n",
       "</tbody>\n",
       "</table>\n"
      ],
      "text/latex": [
       "A tibble: 6 × 3\n",
       "\\begin{tabular}{lll}\n",
       " Age & Prize & rank\\_top\\_150\\\\\n",
       " <dbl> & <dbl> & <fct>\\\\\n",
       "\\hline\n",
       "\t 18 &   59040 & not top 150\\\\\n",
       "\t 32 & 3261567 & not top 150\\\\\n",
       "\t 21 &  374093 & not top 150\\\\\n",
       "\t 27 & 6091971 & not top 150\\\\\n",
       "\t 22 & 1517157 & top 150    \\\\\n",
       "\t 28 &  278709 & not top 150\\\\\n",
       "\\end{tabular}\n"
      ],
      "text/markdown": [
       "\n",
       "A tibble: 6 × 3\n",
       "\n",
       "| Age &lt;dbl&gt; | Prize &lt;dbl&gt; | rank_top_150 &lt;fct&gt; |\n",
       "|---|---|---|\n",
       "| 18 |   59040 | not top 150 |\n",
       "| 32 | 3261567 | not top 150 |\n",
       "| 21 |  374093 | not top 150 |\n",
       "| 27 | 6091971 | not top 150 |\n",
       "| 22 | 1517157 | top 150     |\n",
       "| 28 |  278709 | not top 150 |\n",
       "\n"
      ],
      "text/plain": [
       "  Age Prize   rank_top_150\n",
       "1 18    59040 not top 150 \n",
       "2 32  3261567 not top 150 \n",
       "3 21   374093 not top 150 \n",
       "4 27  6091971 not top 150 \n",
       "5 22  1517157 top 150     \n",
       "6 28   278709 not top 150 "
      ]
     },
     "metadata": {},
     "output_type": "display_data"
    }
   ],
   "source": [
    "set.seed(999)\n",
    "#Removing special symbols from each column and filter out any rows that contain NA values for the selected columns\n",
    "tennis_data <- tennis_data |>\n",
    "select(Age, Prize, Current_rank) %>%\n",
    "mutate(across(Age: Current_rank, function(col) {str_extract(col, \"^[^ ]+\")}))|>\n",
    "mutate(Prize = as.numeric(gsub(\"[^0-9.]+\", \"\", Prize)))|>\n",
    "                mutate(Age = as.numeric(Age))|>\n",
    "                mutate(Current_rank = as.numeric(Current_rank))|>\n",
    "  filter(!is.na(Prize) & !is.na(Age) & !is.na(Current_rank)) |>\n",
    "  filter(Prize <= 100000000) |>\n",
    "  mutate(rank_top_150 = ifelse(Current_rank <= 150, \"top 150\", \"not top 150\")) |> # convert chr to fct\n",
    "  mutate(rank_top_150 = as.factor(rank_top_150)) |>\n",
    "  select(Age, Prize, rank_top_150)#select only the columns we need\n",
    "\n",
    "head(tennis_data)"
   ]
  },
  {
   "cell_type": "markdown",
   "id": "52b09fe8-ade6-4285-9e3b-2930e1ee89dd",
   "metadata": {},
   "source": [
    "Then, we first use the initial_split function to separate the data to training and test sets. We specify that prop = 0.75 so that 75% of our original data set ends up in the training set. We can see from glimpse in the code that the training set contains 293 rows, while the test set contains 99 rows, which corresponds to the split of 75% / 25%."
   ]
  },
  {
   "cell_type": "code",
   "execution_count": 6,
   "id": "5586e866-9cd5-4049-816f-6e976a5b1292",
   "metadata": {},
   "outputs": [
    {
     "name": "stdout",
     "output_type": "stream",
     "text": [
      "Rows: 293\n",
      "Columns: 3\n",
      "$ Age          \u001b[3m\u001b[90m<dbl>\u001b[39m\u001b[23m 18, 32, 21, 27, 28, 21, 30, 30, 26, 24, 21, 28, 20, 22, 2…\n",
      "$ Prize        \u001b[3m\u001b[90m<dbl>\u001b[39m\u001b[23m 59040, 3261567, 374093, 6091971, 278709, 59123, 184328, 1…\n",
      "$ rank_top_150 \u001b[3m\u001b[90m<fct>\u001b[39m\u001b[23m not top 150, not top 150, not top 150, not top 150, not t…\n",
      "Rows: 99\n",
      "Columns: 3\n",
      "$ Age          \u001b[3m\u001b[90m<dbl>\u001b[39m\u001b[23m 22, 25, 20, 28, 23, 30, 22, 30, 22, 28, 26, 34, 27, 22, 3…\n",
      "$ Prize        \u001b[3m\u001b[90m<dbl>\u001b[39m\u001b[23m 1517157, 122734, 74927, 303458, 54004, 898701, 87942, 631…\n",
      "$ rank_top_150 \u001b[3m\u001b[90m<fct>\u001b[39m\u001b[23m top 150, not top 150, top 150, top 150, not top 150, top …\n"
     ]
    }
   ],
   "source": [
    "set.seed(999)\n",
    "tennis_split <- initial_split(tennis_data, prop = 0.75, strata = rank_top_150)  \n",
    "tennis_train <- training(tennis_split)   \n",
    "tennis_test <- testing(tennis_split)\n",
    "glimpse(tennis_train)\n",
    "glimpse(tennis_test)"
   ]
  },
  {
   "cell_type": "markdown",
   "id": "84fa4edf-8fdc-4449-984c-c03914cb97af",
   "metadata": {},
   "source": [
    "The table below shows the percentage of top 150 and non-top 150 tennis players, and it can be seen that after we filter out the rows containing NA values, the number of top 500 players is left at 293, with 98 top 150 players and 195 non-top 150 players. In terms of percentage, about 1/3 of tennis players are top 150 and 2/3 of tennis players are not top 150."
   ]
  },
  {
   "cell_type": "code",
   "execution_count": 10,
   "id": "15a73c1f-feb1-4ede-bd37-012cc7d2533e",
   "metadata": {},
   "outputs": [
    {
     "data": {
      "text/html": [
       "<table class=\"dataframe\">\n",
       "<caption>A tibble: 2 × 3</caption>\n",
       "<thead>\n",
       "\t<tr><th scope=col>rank_top_150</th><th scope=col>n</th><th scope=col>percent</th></tr>\n",
       "\t<tr><th scope=col>&lt;fct&gt;</th><th scope=col>&lt;int&gt;</th><th scope=col>&lt;dbl&gt;</th></tr>\n",
       "</thead>\n",
       "<tbody>\n",
       "\t<tr><td>not top 150</td><td>195</td><td>66.5529</td></tr>\n",
       "\t<tr><td>top 150    </td><td> 98</td><td>33.4471</td></tr>\n",
       "</tbody>\n",
       "</table>\n"
      ],
      "text/latex": [
       "A tibble: 2 × 3\n",
       "\\begin{tabular}{lll}\n",
       " rank\\_top\\_150 & n & percent\\\\\n",
       " <fct> & <int> & <dbl>\\\\\n",
       "\\hline\n",
       "\t not top 150 & 195 & 66.5529\\\\\n",
       "\t top 150     &  98 & 33.4471\\\\\n",
       "\\end{tabular}\n"
      ],
      "text/markdown": [
       "\n",
       "A tibble: 2 × 3\n",
       "\n",
       "| rank_top_150 &lt;fct&gt; | n &lt;int&gt; | percent &lt;dbl&gt; |\n",
       "|---|---|---|\n",
       "| not top 150 | 195 | 66.5529 |\n",
       "| top 150     |  98 | 33.4471 |\n",
       "\n"
      ],
      "text/plain": [
       "  rank_top_150 n   percent\n",
       "1 not top 150  195 66.5529\n",
       "2 top 150       98 33.4471"
      ]
     },
     "metadata": {},
     "output_type": "display_data"
    }
   ],
   "source": [
    "set.seed(999)\n",
    "tennis_proportions <- tennis_train |>\n",
    "                      group_by(rank_top_150) |>\n",
    "                      summarize(n = n()) |>\n",
    "                      mutate(percent = 100*n/nrow(tennis_train))\n",
    "\n",
    "tennis_proportions"
   ]
  },
  {
   "cell_type": "markdown",
   "id": "46056973-188a-4e80-a487-788491552239",
   "metadata": {},
   "source": [
    "The mean and standard deviation of Age and Prize money were calculated for top_150 and not_top_150 using the summarize function. Based on the results, the average age of top 150 tennis players is 1.2 years older than that of non-top 150 tennis players, and the average current ranking of top 150 tennis players is about 4.78 times that of non-top 150 tennis players. In addition, the standard deviation of the age of the top 150 tennis players was 0.2 lower than that of the non-top 150 tennis players, and the standard deviation of the current ranking of the top 150 tennis players was approximately 2.84 times higher than that of the non-top 150 tennis players."
   ]
  },
  {
   "cell_type": "code",
   "execution_count": 7,
   "id": "ed80033a-b7d2-4c98-9c8c-bac1bf6dad2b",
   "metadata": {},
   "outputs": [
    {
     "data": {
      "text/html": [
       "<table class=\"dataframe\">\n",
       "<caption>A tibble: 2 × 3</caption>\n",
       "<thead>\n",
       "\t<tr><th scope=col>rank_top_150</th><th scope=col>avg_age</th><th scope=col>avg_current_rank</th></tr>\n",
       "\t<tr><th scope=col>&lt;fct&gt;</th><th scope=col>&lt;dbl&gt;</th><th scope=col>&lt;dbl&gt;</th></tr>\n",
       "</thead>\n",
       "<tbody>\n",
       "\t<tr><td>not top 150</td><td>25.75897</td><td> 886894.7</td></tr>\n",
       "\t<tr><td>top 150    </td><td>26.91837</td><td>4240960.7</td></tr>\n",
       "</tbody>\n",
       "</table>\n"
      ],
      "text/latex": [
       "A tibble: 2 × 3\n",
       "\\begin{tabular}{lll}\n",
       " rank\\_top\\_150 & avg\\_age & avg\\_current\\_rank\\\\\n",
       " <fct> & <dbl> & <dbl>\\\\\n",
       "\\hline\n",
       "\t not top 150 & 25.75897 &  886894.7\\\\\n",
       "\t top 150     & 26.91837 & 4240960.7\\\\\n",
       "\\end{tabular}\n"
      ],
      "text/markdown": [
       "\n",
       "A tibble: 2 × 3\n",
       "\n",
       "| rank_top_150 &lt;fct&gt; | avg_age &lt;dbl&gt; | avg_current_rank &lt;dbl&gt; |\n",
       "|---|---|---|\n",
       "| not top 150 | 25.75897 |  886894.7 |\n",
       "| top 150     | 26.91837 | 4240960.7 |\n",
       "\n"
      ],
      "text/plain": [
       "  rank_top_150 avg_age  avg_current_rank\n",
       "1 not top 150  25.75897  886894.7       \n",
       "2 top 150      26.91837 4240960.7       "
      ]
     },
     "metadata": {},
     "output_type": "display_data"
    },
    {
     "data": {
      "text/html": [
       "<table class=\"dataframe\">\n",
       "<caption>A tibble: 2 × 3</caption>\n",
       "<thead>\n",
       "\t<tr><th scope=col>rank_top_150</th><th scope=col>sd_age</th><th scope=col>sd_current_rank</th></tr>\n",
       "\t<tr><th scope=col>&lt;fct&gt;</th><th scope=col>&lt;dbl&gt;</th><th scope=col>&lt;dbl&gt;</th></tr>\n",
       "</thead>\n",
       "<tbody>\n",
       "\t<tr><td>not top 150</td><td>4.475403</td><td>1925523</td></tr>\n",
       "\t<tr><td>top 150    </td><td>4.202781</td><td>5466542</td></tr>\n",
       "</tbody>\n",
       "</table>\n"
      ],
      "text/latex": [
       "A tibble: 2 × 3\n",
       "\\begin{tabular}{lll}\n",
       " rank\\_top\\_150 & sd\\_age & sd\\_current\\_rank\\\\\n",
       " <fct> & <dbl> & <dbl>\\\\\n",
       "\\hline\n",
       "\t not top 150 & 4.475403 & 1925523\\\\\n",
       "\t top 150     & 4.202781 & 5466542\\\\\n",
       "\\end{tabular}\n"
      ],
      "text/markdown": [
       "\n",
       "A tibble: 2 × 3\n",
       "\n",
       "| rank_top_150 &lt;fct&gt; | sd_age &lt;dbl&gt; | sd_current_rank &lt;dbl&gt; |\n",
       "|---|---|---|\n",
       "| not top 150 | 4.475403 | 1925523 |\n",
       "| top 150     | 4.202781 | 5466542 |\n",
       "\n"
      ],
      "text/plain": [
       "  rank_top_150 sd_age   sd_current_rank\n",
       "1 not top 150  4.475403 1925523        \n",
       "2 top 150      4.202781 5466542        "
      ]
     },
     "metadata": {},
     "output_type": "display_data"
    }
   ],
   "source": [
    "set.seed(999)\n",
    "tennis_summary_avg <- tennis_train %>%\n",
    "  group_by(rank_top_150) %>%\n",
    "  summarize(\n",
    "    avg_age = mean(Age),\n",
    "    avg_current_rank = mean(Prize)\n",
    "  )\n",
    "\n",
    "tennis_summary_avg\n",
    "\n",
    "tennis_summary_sd <- tennis_train %>%\n",
    "  group_by(rank_top_150) %>%\n",
    "  summarize(\n",
    "    sd_age = sd(Age),\n",
    "    sd_current_rank = sd(Prize)\n",
    "  )\n",
    "\n",
    "tennis_summary_sd"
   ]
  },
  {
   "cell_type": "markdown",
   "id": "40930d0d-c0ad-447a-b4a1-cdf67a73eda8",
   "metadata": {},
   "source": [
    "The scatter plot below shows the correlation between the age of the top 150 ranked tennis players and their prize money on the x and y axes. According to the plot, most of the signal shows that the older the player are, the higher the likelihood of getting a higher prize."
   ]
  },
  {
   "cell_type": "code",
   "execution_count": 27,
   "id": "1c0321dc-5e68-4e08-ac83-75e8473daca6",
   "metadata": {},
   "outputs": [
    {
     "data": {
      "image/png": "[encoded data removed]",
      "text/plain": [
       "plot without title"
      ]
     },
     "metadata": {
      "image/png": {
       "height": 300,
       "width": 360
      }
     },
     "output_type": "display_data"
    }
   ],
   "source": [
    "set.seed(999)\n",
    "top_150_plot <- ggplot(data = filter(tennis_train, rank_top_150 == \"top 150\"),\n",
    "                    aes(x = Age, y = Prize)) +\n",
    "  geom_point() +\n",
    "  labs(title = \"Age vs. Prize Money (Rank Top 150)\",\n",
    "       x = \"Age (years)\",\n",
    "       y = \"Prize Money\")\n",
    "top_150_plot"
   ]
  },
  {
   "cell_type": "markdown",
   "id": "2bdfbaa9-f10d-4946-84dd-62f772986aa3",
   "metadata": {},
   "source": [
    "The scatter plot below shows the correlation between the age of the non-top 150 ranked tennis players and their prize money on the x and y axes. Like the previous plot, as age increases, the higher the prize money received, but this plot for players not ranked in the top 150 shows a clearer trend than the plot for the top 150 players. "
   ]
  },
  {
   "cell_type": "code",
   "execution_count": 32,
   "id": "80436f40-4426-46ca-86eb-7de0bff5b6b2",
   "metadata": {},
   "outputs": [
    {
     "data": {
      "image/png": "[encoded data removed]",
      "text/plain": [
       "plot without title"
      ]
     },
     "metadata": {
      "image/png": {
       "height": 300,
       "width": 360
      }
     },
     "output_type": "display_data"
    }
   ],
   "source": [
    "set.seed(999)\n",
    "not_top_150_plot <- ggplot(data = filter(tennis_train, rank_top_150 == \"not top 150\"),\n",
    "                    aes(x = Age, y = Prize)) +\n",
    "  geom_point() +\n",
    "  labs(title = \"Age vs. Prize Money (Ranked after 150)\",\n",
    "       x = \"Age (years)\",\n",
    "       y = \"Prize Money\")\n",
    "not_top_150_plot"
   ]
  },
  {
   "cell_type": "markdown",
   "id": "39211b7f-674f-47b2-886a-dd1f809624c6",
   "metadata": {},
   "source": [
    "The k-nearest neighbors（knn) algorithm is used to find the optimal set of hyperparameters. The performance of the model is evaluated using 10-fold cross-validation. The accuracy is used to assess the performance of our model. "
   ]
  },
  {
   "cell_type": "code",
   "execution_count": 33,
   "id": "0082af95-77e1-44c9-9489-a202905a5698",
   "metadata": {},
   "outputs": [
    {
     "data": {
      "text/html": [
       "<table class=\"dataframe\">\n",
       "<caption>A tibble: 9 × 7</caption>\n",
       "<thead>\n",
       "\t<tr><th scope=col>neighbors</th><th scope=col>.metric</th><th scope=col>.estimator</th><th scope=col>mean</th><th scope=col>n</th><th scope=col>std_err</th><th scope=col>.config</th></tr>\n",
       "\t<tr><th scope=col>&lt;int&gt;</th><th scope=col>&lt;chr&gt;</th><th scope=col>&lt;chr&gt;</th><th scope=col>&lt;dbl&gt;</th><th scope=col>&lt;int&gt;</th><th scope=col>&lt;dbl&gt;</th><th scope=col>&lt;chr&gt;</th></tr>\n",
       "</thead>\n",
       "<tbody>\n",
       "\t<tr><td> 2</td><td>accuracy</td><td>binary</td><td>0.7484072</td><td>10</td><td>0.02508895</td><td>Preprocessor1_Model1</td></tr>\n",
       "\t<tr><td> 4</td><td>accuracy</td><td>binary</td><td>0.7922167</td><td>10</td><td>0.01342258</td><td>Preprocessor1_Model2</td></tr>\n",
       "\t<tr><td> 5</td><td>accuracy</td><td>binary</td><td>0.7958867</td><td>10</td><td>0.02192485</td><td>Preprocessor1_Model3</td></tr>\n",
       "\t<tr><td> 6</td><td>accuracy</td><td>binary</td><td>0.7958867</td><td>10</td><td>0.02192485</td><td>Preprocessor1_Model4</td></tr>\n",
       "\t<tr><td> 7</td><td>accuracy</td><td>binary</td><td>0.8026847</td><td>10</td><td>0.02005309</td><td>Preprocessor1_Model5</td></tr>\n",
       "\t<tr><td> 9</td><td>accuracy</td><td>binary</td><td>0.7921018</td><td>10</td><td>0.01764384</td><td>Preprocessor1_Model6</td></tr>\n",
       "\t<tr><td>10</td><td>accuracy</td><td>binary</td><td>0.7921018</td><td>10</td><td>0.01764384</td><td>Preprocessor1_Model7</td></tr>\n",
       "\t<tr><td>12</td><td>accuracy</td><td>binary</td><td>0.8093514</td><td>10</td><td>0.01915169</td><td>Preprocessor1_Model8</td></tr>\n",
       "\t<tr><td>14</td><td>accuracy</td><td>binary</td><td>0.8093514</td><td>10</td><td>0.01895997</td><td>Preprocessor1_Model9</td></tr>\n",
       "</tbody>\n",
       "</table>\n"
      ],
      "text/latex": [
       "A tibble: 9 × 7\n",
       "\\begin{tabular}{lllllll}\n",
       " neighbors & .metric & .estimator & mean & n & std\\_err & .config\\\\\n",
       " <int> & <chr> & <chr> & <dbl> & <int> & <dbl> & <chr>\\\\\n",
       "\\hline\n",
       "\t  2 & accuracy & binary & 0.7484072 & 10 & 0.02508895 & Preprocessor1\\_Model1\\\\\n",
       "\t  4 & accuracy & binary & 0.7922167 & 10 & 0.01342258 & Preprocessor1\\_Model2\\\\\n",
       "\t  5 & accuracy & binary & 0.7958867 & 10 & 0.02192485 & Preprocessor1\\_Model3\\\\\n",
       "\t  6 & accuracy & binary & 0.7958867 & 10 & 0.02192485 & Preprocessor1\\_Model4\\\\\n",
       "\t  7 & accuracy & binary & 0.8026847 & 10 & 0.02005309 & Preprocessor1\\_Model5\\\\\n",
       "\t  9 & accuracy & binary & 0.7921018 & 10 & 0.01764384 & Preprocessor1\\_Model6\\\\\n",
       "\t 10 & accuracy & binary & 0.7921018 & 10 & 0.01764384 & Preprocessor1\\_Model7\\\\\n",
       "\t 12 & accuracy & binary & 0.8093514 & 10 & 0.01915169 & Preprocessor1\\_Model8\\\\\n",
       "\t 14 & accuracy & binary & 0.8093514 & 10 & 0.01895997 & Preprocessor1\\_Model9\\\\\n",
       "\\end{tabular}\n"
      ],
      "text/markdown": [
       "\n",
       "A tibble: 9 × 7\n",
       "\n",
       "| neighbors &lt;int&gt; | .metric &lt;chr&gt; | .estimator &lt;chr&gt; | mean &lt;dbl&gt; | n &lt;int&gt; | std_err &lt;dbl&gt; | .config &lt;chr&gt; |\n",
       "|---|---|---|---|---|---|---|\n",
       "|  2 | accuracy | binary | 0.7484072 | 10 | 0.02508895 | Preprocessor1_Model1 |\n",
       "|  4 | accuracy | binary | 0.7922167 | 10 | 0.01342258 | Preprocessor1_Model2 |\n",
       "|  5 | accuracy | binary | 0.7958867 | 10 | 0.02192485 | Preprocessor1_Model3 |\n",
       "|  6 | accuracy | binary | 0.7958867 | 10 | 0.02192485 | Preprocessor1_Model4 |\n",
       "|  7 | accuracy | binary | 0.8026847 | 10 | 0.02005309 | Preprocessor1_Model5 |\n",
       "|  9 | accuracy | binary | 0.7921018 | 10 | 0.01764384 | Preprocessor1_Model6 |\n",
       "| 10 | accuracy | binary | 0.7921018 | 10 | 0.01764384 | Preprocessor1_Model7 |\n",
       "| 12 | accuracy | binary | 0.8093514 | 10 | 0.01915169 | Preprocessor1_Model8 |\n",
       "| 14 | accuracy | binary | 0.8093514 | 10 | 0.01895997 | Preprocessor1_Model9 |\n",
       "\n"
      ],
      "text/plain": [
       "  neighbors .metric  .estimator mean      n  std_err    .config             \n",
       "1  2        accuracy binary     0.7484072 10 0.02508895 Preprocessor1_Model1\n",
       "2  4        accuracy binary     0.7922167 10 0.01342258 Preprocessor1_Model2\n",
       "3  5        accuracy binary     0.7958867 10 0.02192485 Preprocessor1_Model3\n",
       "4  6        accuracy binary     0.7958867 10 0.02192485 Preprocessor1_Model4\n",
       "5  7        accuracy binary     0.8026847 10 0.02005309 Preprocessor1_Model5\n",
       "6  9        accuracy binary     0.7921018 10 0.01764384 Preprocessor1_Model6\n",
       "7 10        accuracy binary     0.7921018 10 0.01764384 Preprocessor1_Model7\n",
       "8 12        accuracy binary     0.8093514 10 0.01915169 Preprocessor1_Model8\n",
       "9 14        accuracy binary     0.8093514 10 0.01895997 Preprocessor1_Model9"
      ]
     },
     "metadata": {},
     "output_type": "display_data"
    }
   ],
   "source": [
    "set.seed(999) \n",
    "knn_spec <- nearest_neighbor(weight_func = \"rectangular\", neighbors = tune()) |>\n",
    "  set_engine(\"kknn\") |>\n",
    "  set_mode(\"classification\")\n",
    "\n",
    "tennis_recipe <- recipe(rank_top_150 ~., data = tennis_train) |>\n",
    "  step_scale(all_predictors()) |>\n",
    "  step_center(all_predictors())\n",
    "\n",
    "tennis_vfold <- vfold_cv(tennis_train, v = 10, strata = rank_top_150)\n",
    "\n",
    "knn_results <- workflow() |>\n",
    "                 add_recipe(tennis_recipe) |>\n",
    "                 add_model(knn_spec) |>\n",
    "                 tune_grid(resamples = tennis_vfold, grid = 10) |>\n",
    "                 collect_metrics()\n",
    "\n",
    "accuracy <- knn_results |>\n",
    "                 filter(.metric == 'accuracy')\n",
    "accuracy"
   ]
  },
  {
   "cell_type": "markdown",
   "id": "72c431eb-93e6-4df0-bda7-d4fe08c2384c",
   "metadata": {},
   "source": [
    "We can determine the best value of k to enhance the accuracy of the model by examining the connection between k and accuracy. This data can be employed to increase the model's efficiency and generate more precise forecasts."
   ]
  },
  {
   "cell_type": "code",
   "execution_count": 13,
   "id": "a210ca88-2680-4a60-ab46-6e6447f9b92e",
   "metadata": {},
   "outputs": [
    {
     "data": {
      "image/png": "[encoded data removed]",
      "text/plain": [
       "plot without title"
      ]
     },
     "metadata": {
      "image/png": {
       "height": 300,
       "width": 360
      }
     },
     "output_type": "display_data"
    }
   ],
   "source": [
    "set.seed(999) \n",
    "options(repr.plot.height = 5, repr.plot.width = 6)\n",
    "accuracy_vs_k <- ggplot(accuracies, aes(x = neighbors, y = mean)) +\n",
    "                  geom_point() +\n",
    "                  geom_line() +\n",
    "                  labs(x = 'Neighbors', y = 'Accuracy Estimate') +\n",
    "                  theme(text = element_text(size = 12))\n",
    "\n",
    "accuracy_vs_k"
   ]
  },
  {
   "cell_type": "markdown",
   "id": "c36b0746-8782-4e07-8e1a-e95963e7cd6a",
   "metadata": {},
   "source": [
    "According to above plot, to get the highest possible accuracy, the number of neighbors shoule be around 12-18, in our case, we set it to 13. "
   ]
  },
  {
   "cell_type": "code",
   "execution_count": 14,
   "id": "dad20664-bab7-4c15-a44d-b3e2d02521b2",
   "metadata": {},
   "outputs": [
    {
     "data": {
      "text/plain": [
       "══ Workflow [trained] ══════════════════════════════════════════════════════════\n",
       "\u001b[3mPreprocessor:\u001b[23m Recipe\n",
       "\u001b[3mModel:\u001b[23m nearest_neighbor()\n",
       "\n",
       "── Preprocessor ────────────────────────────────────────────────────────────────\n",
       "2 Recipe Steps\n",
       "\n",
       "• step_scale()\n",
       "• step_center()\n",
       "\n",
       "── Model ───────────────────────────────────────────────────────────────────────\n",
       "\n",
       "Call:\n",
       "kknn::train.kknn(formula = ..y ~ ., data = data, ks = min_rows(13,     data, 5), kernel = ~\"rectangular\")\n",
       "\n",
       "Type of response variable: nominal\n",
       "Minimal misclassification: 0.1911263\n",
       "Best kernel: rectangular\n",
       "Best k: 13"
      ]
     },
     "metadata": {},
     "output_type": "display_data"
    }
   ],
   "source": [
    "set.seed(999)\n",
    "knn_spec <- nearest_neighbor(weight_func = \"rectangular\", neighbors = 13) |>\n",
    "  set_engine(\"kknn\") |>\n",
    "  set_mode(\"classification\")\n",
    "\n",
    "knn_fit <- workflow() |>\n",
    "             add_recipe(tennis_recipe) |>\n",
    "             add_model(knn_spec) |>\n",
    "            fit(data = tennis_train)\n",
    "knn_fit"
   ]
  },
  {
   "cell_type": "markdown",
   "id": "4c8c4a19-eeeb-4de1-8db2-714b74fc672a",
   "metadata": {},
   "source": []
  },
  {
   "cell_type": "code",
   "execution_count": 15,
   "id": "bbe7427b-660d-4a6b-8d44-a36859ed58ff",
   "metadata": {},
   "outputs": [
    {
     "data": {
      "text/html": [
       "<table class=\"dataframe\">\n",
       "<caption>A tibble: 6 × 4</caption>\n",
       "<thead>\n",
       "\t<tr><th scope=col>.pred_class</th><th scope=col>Age</th><th scope=col>Prize</th><th scope=col>rank_top_150</th></tr>\n",
       "\t<tr><th scope=col>&lt;fct&gt;</th><th scope=col>&lt;dbl&gt;</th><th scope=col>&lt;dbl&gt;</th><th scope=col>&lt;fct&gt;</th></tr>\n",
       "</thead>\n",
       "<tbody>\n",
       "\t<tr><td>top 150    </td><td>22</td><td>1517157</td><td>top 150    </td></tr>\n",
       "\t<tr><td>not top 150</td><td>25</td><td> 122734</td><td>not top 150</td></tr>\n",
       "\t<tr><td>not top 150</td><td>20</td><td>  74927</td><td>top 150    </td></tr>\n",
       "\t<tr><td>not top 150</td><td>28</td><td> 303458</td><td>top 150    </td></tr>\n",
       "\t<tr><td>not top 150</td><td>23</td><td>  54004</td><td>not top 150</td></tr>\n",
       "\t<tr><td>not top 150</td><td>30</td><td> 898701</td><td>top 150    </td></tr>\n",
       "</tbody>\n",
       "</table>\n"
      ],
      "text/latex": [
       "A tibble: 6 × 4\n",
       "\\begin{tabular}{llll}\n",
       " .pred\\_class & Age & Prize & rank\\_top\\_150\\\\\n",
       " <fct> & <dbl> & <dbl> & <fct>\\\\\n",
       "\\hline\n",
       "\t top 150     & 22 & 1517157 & top 150    \\\\\n",
       "\t not top 150 & 25 &  122734 & not top 150\\\\\n",
       "\t not top 150 & 20 &   74927 & top 150    \\\\\n",
       "\t not top 150 & 28 &  303458 & top 150    \\\\\n",
       "\t not top 150 & 23 &   54004 & not top 150\\\\\n",
       "\t not top 150 & 30 &  898701 & top 150    \\\\\n",
       "\\end{tabular}\n"
      ],
      "text/markdown": [
       "\n",
       "A tibble: 6 × 4\n",
       "\n",
       "| .pred_class &lt;fct&gt; | Age &lt;dbl&gt; | Prize &lt;dbl&gt; | rank_top_150 &lt;fct&gt; |\n",
       "|---|---|---|---|\n",
       "| top 150     | 22 | 1517157 | top 150     |\n",
       "| not top 150 | 25 |  122734 | not top 150 |\n",
       "| not top 150 | 20 |   74927 | top 150     |\n",
       "| not top 150 | 28 |  303458 | top 150     |\n",
       "| not top 150 | 23 |   54004 | not top 150 |\n",
       "| not top 150 | 30 |  898701 | top 150     |\n",
       "\n"
      ],
      "text/plain": [
       "  .pred_class Age Prize   rank_top_150\n",
       "1 top 150     22  1517157 top 150     \n",
       "2 not top 150 25   122734 not top 150 \n",
       "3 not top 150 20    74927 top 150     \n",
       "4 not top 150 28   303458 top 150     \n",
       "5 not top 150 23    54004 not top 150 \n",
       "6 not top 150 30   898701 top 150     "
      ]
     },
     "metadata": {},
     "output_type": "display_data"
    },
    {
     "data": {
      "text/html": [
       "<table class=\"dataframe\">\n",
       "<caption>A tibble: 1 × 3</caption>\n",
       "<thead>\n",
       "\t<tr><th scope=col>.metric</th><th scope=col>.estimator</th><th scope=col>.estimate</th></tr>\n",
       "\t<tr><th scope=col>&lt;chr&gt;</th><th scope=col>&lt;chr&gt;</th><th scope=col>&lt;dbl&gt;</th></tr>\n",
       "</thead>\n",
       "<tbody>\n",
       "\t<tr><td>accuracy</td><td>binary</td><td>0.8383838</td></tr>\n",
       "</tbody>\n",
       "</table>\n"
      ],
      "text/latex": [
       "A tibble: 1 × 3\n",
       "\\begin{tabular}{lll}\n",
       " .metric & .estimator & .estimate\\\\\n",
       " <chr> & <chr> & <dbl>\\\\\n",
       "\\hline\n",
       "\t accuracy & binary & 0.8383838\\\\\n",
       "\\end{tabular}\n"
      ],
      "text/markdown": [
       "\n",
       "A tibble: 1 × 3\n",
       "\n",
       "| .metric &lt;chr&gt; | .estimator &lt;chr&gt; | .estimate &lt;dbl&gt; |\n",
       "|---|---|---|\n",
       "| accuracy | binary | 0.8383838 |\n",
       "\n"
      ],
      "text/plain": [
       "  .metric  .estimator .estimate\n",
       "1 accuracy binary     0.8383838"
      ]
     },
     "metadata": {},
     "output_type": "display_data"
    },
    {
     "data": {
      "text/plain": [
       "             Truth\n",
       "Prediction    not top 150 top 150\n",
       "  not top 150          64      14\n",
       "  top 150               2      19"
      ]
     },
     "metadata": {},
     "output_type": "display_data"
    }
   ],
   "source": [
    "set.seed(999) \n",
    "tennis_predictions <- predict(knn_fit, tennis_test) |>\n",
    "bind_cols(tennis_test)\n",
    "head(tennis_predictions)\n",
    "\n",
    "tennis_metrics <- tennis_predictions |>\n",
    "         metrics(truth = rank_top_150, estimate = .pred_class) |>\n",
    "  filter(.metric == \"accuracy\")\n",
    "tennis_metrics\n",
    "\n",
    "tennis_mat <- tennis_predictions |>\n",
    "         conf_mat(truth = rank_top_150, estimate = .pred_class)\n",
    "tennis_mat\n"
   ]
  },
  {
   "cell_type": "code",
   "execution_count": null,
   "id": "2796f542-52a8-4d2b-9d59-9553b4216424",
   "metadata": {},
   "outputs": [],
   "source": []
  }
 ],
 "metadata": {
  "kernelspec": {
   "display_name": "R",
   "language": "R",
   "name": "ir"
  },
  "language_info": {
   "codemirror_mode": "r",
   "file_extension": ".r",
   "mimetype": "text/x-r-source",
   "name": "R",
   "pygments_lexer": "r",
   "version": "4.1.3"
  }
 },
 "nbformat": 4,
 "nbformat_minor": 5
}
