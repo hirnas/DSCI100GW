{
 "cells": [
  {
   "cell_type": "code",
   "execution_count": 1,
   "id": "783bddf3-6fbb-45ba-8efc-16b0fb4ac54a",
   "metadata": {},
   "outputs": [
    {
     "name": "stderr",
     "output_type": "stream",
     "text": [
      "── \u001b[1mAttaching packages\u001b[22m ─────────────────────────────────────── tidyverse 1.3.1 ──\n",
      "\n",
      "\u001b[32m✔\u001b[39m \u001b[34mggplot2\u001b[39m 3.3.6     \u001b[32m✔\u001b[39m \u001b[34mpurrr  \u001b[39m 0.3.4\n",
      "\u001b[32m✔\u001b[39m \u001b[34mtibble \u001b[39m 3.1.7     \u001b[32m✔\u001b[39m \u001b[34mdplyr  \u001b[39m 1.0.9\n",
      "\u001b[32m✔\u001b[39m \u001b[34mtidyr  \u001b[39m 1.2.0     \u001b[32m✔\u001b[39m \u001b[34mstringr\u001b[39m 1.4.0\n",
      "\u001b[32m✔\u001b[39m \u001b[34mreadr  \u001b[39m 2.1.2     \u001b[32m✔\u001b[39m \u001b[34mforcats\u001b[39m 0.5.1\n",
      "\n",
      "── \u001b[1mConflicts\u001b[22m ────────────────────────────────────────── tidyverse_conflicts() ──\n",
      "\u001b[31m✖\u001b[39m \u001b[34mdplyr\u001b[39m::\u001b[32mfilter()\u001b[39m masks \u001b[34mstats\u001b[39m::filter()\n",
      "\u001b[31m✖\u001b[39m \u001b[34mdplyr\u001b[39m::\u001b[32mlag()\u001b[39m    masks \u001b[34mstats\u001b[39m::lag()\n",
      "\n",
      "── \u001b[1mAttaching packages\u001b[22m ────────────────────────────────────── tidymodels 1.0.0 ──\n",
      "\n",
      "\u001b[32m✔\u001b[39m \u001b[34mbroom       \u001b[39m 1.0.0     \u001b[32m✔\u001b[39m \u001b[34mrsample     \u001b[39m 1.0.0\n",
      "\u001b[32m✔\u001b[39m \u001b[34mdials       \u001b[39m 1.0.0     \u001b[32m✔\u001b[39m \u001b[34mtune        \u001b[39m 1.0.0\n",
      "\u001b[32m✔\u001b[39m \u001b[34minfer       \u001b[39m 1.0.2     \u001b[32m✔\u001b[39m \u001b[34mworkflows   \u001b[39m 1.0.0\n",
      "\u001b[32m✔\u001b[39m \u001b[34mmodeldata   \u001b[39m 1.0.0     \u001b[32m✔\u001b[39m \u001b[34mworkflowsets\u001b[39m 1.0.0\n",
      "\u001b[32m✔\u001b[39m \u001b[34mparsnip     \u001b[39m 1.0.0     \u001b[32m✔\u001b[39m \u001b[34myardstick   \u001b[39m 1.0.0\n",
      "\u001b[32m✔\u001b[39m \u001b[34mrecipes     \u001b[39m 1.0.1     \n",
      "\n",
      "── \u001b[1mConflicts\u001b[22m ───────────────────────────────────────── tidymodels_conflicts() ──\n",
      "\u001b[31m✖\u001b[39m \u001b[34mscales\u001b[39m::\u001b[32mdiscard()\u001b[39m masks \u001b[34mpurrr\u001b[39m::discard()\n",
      "\u001b[31m✖\u001b[39m \u001b[34mdplyr\u001b[39m::\u001b[32mfilter()\u001b[39m   masks \u001b[34mstats\u001b[39m::filter()\n",
      "\u001b[31m✖\u001b[39m \u001b[34mrecipes\u001b[39m::\u001b[32mfixed()\u001b[39m  masks \u001b[34mstringr\u001b[39m::fixed()\n",
      "\u001b[31m✖\u001b[39m \u001b[34mdplyr\u001b[39m::\u001b[32mlag()\u001b[39m      masks \u001b[34mstats\u001b[39m::lag()\n",
      "\u001b[31m✖\u001b[39m \u001b[34myardstick\u001b[39m::\u001b[32mspec()\u001b[39m masks \u001b[34mreadr\u001b[39m::spec()\n",
      "\u001b[31m✖\u001b[39m \u001b[34mrecipes\u001b[39m::\u001b[32mstep()\u001b[39m   masks \u001b[34mstats\u001b[39m::step()\n",
      "\u001b[34m•\u001b[39m Learn how to get started at \u001b[32mhttps://www.tidymodels.org/start/\u001b[39m\n",
      "\n",
      "\n",
      "Attaching package: ‘gridExtra’\n",
      "\n",
      "\n",
      "The following object is masked from ‘package:dplyr’:\n",
      "\n",
      "    combine\n",
      "\n",
      "\n"
     ]
    }
   ],
   "source": [
    "#load libraries\n",
    "library(tidyverse)\n",
    "library(repr)\n",
    "library(tidymodels)\n",
    "library(ggplot2)\n",
    "library(gridExtra)\n",
    "library(stringr)"
   ]
  },
  {
   "cell_type": "code",
   "execution_count": 2,
   "id": "ef9e4d5a-1c5a-4782-bc35-4a8e7ca4e521",
   "metadata": {},
   "outputs": [
    {
     "name": "stderr",
     "output_type": "stream",
     "text": [
      "\u001b[1m\u001b[22mNew names:\n",
      "\u001b[36m•\u001b[39m `` -> `...1`\n",
      "\u001b[1mRows: \u001b[22m\u001b[34m500\u001b[39m \u001b[1mColumns: \u001b[22m\u001b[34m38\u001b[39m\n",
      "\u001b[36m──\u001b[39m \u001b[1mColumn specification\u001b[22m \u001b[36m────────────────────────────────────────────────────────\u001b[39m\n",
      "\u001b[1mDelimiter:\u001b[22m \",\"\n",
      "\u001b[31mchr\u001b[39m (25): Age, Country, Plays, Wikipedia, Current Rank, Best Rank, Name, Bac...\n",
      "\u001b[32mdbl\u001b[39m (13): ...1, Turned Pro, Seasons, Titles, Best Season, Retired, Masters, ...\n",
      "\n",
      "\u001b[36mℹ\u001b[39m Use `spec()` to retrieve the full column specification for this data.\n",
      "\u001b[36mℹ\u001b[39m Specify the column types or set `show_col_types = FALSE` to quiet this message.\n"
     ]
    }
   ],
   "source": [
    "#using the read_csv function to load data from web\n",
    "tennis <- read_csv(\"https://drive.google.com/uc?export=download&id=1_MECmUXZuuILYeEOfonSGqodW6qVdhsS\")"
   ]
  },
  {
   "cell_type": "code",
   "execution_count": 3,
   "id": "00a72f71-b3cc-453f-9002-f709c95566fe",
   "metadata": {},
   "outputs": [
    {
     "data": {
      "text/html": [
       "<table class=\"dataframe\">\n",
       "<caption>A tibble: 1 × 3</caption>\n",
       "<thead>\n",
       "\t<tr><th scope=col>Age</th><th scope=col>Plays</th><th scope=col>Current_rank</th></tr>\n",
       "\t<tr><th scope=col>&lt;int&gt;</th><th scope=col>&lt;int&gt;</th><th scope=col>&lt;int&gt;</th></tr>\n",
       "</thead>\n",
       "<tbody>\n",
       "\t<tr><td>1</td><td>47</td><td>5</td></tr>\n",
       "</tbody>\n",
       "</table>\n"
      ],
      "text/latex": [
       "A tibble: 1 × 3\n",
       "\\begin{tabular}{lll}\n",
       " Age & Plays & Current\\_rank\\\\\n",
       " <int> & <int> & <int>\\\\\n",
       "\\hline\n",
       "\t 1 & 47 & 5\\\\\n",
       "\\end{tabular}\n"
      ],
      "text/markdown": [
       "\n",
       "A tibble: 1 × 3\n",
       "\n",
       "| Age &lt;int&gt; | Plays &lt;int&gt; | Current_rank &lt;int&gt; |\n",
       "|---|---|---|\n",
       "| 1 | 47 | 5 |\n",
       "\n"
      ],
      "text/plain": [
       "  Age Plays Current_rank\n",
       "1 1   47    5           "
      ]
     },
     "metadata": {},
     "output_type": "display_data"
    }
   ],
   "source": [
    "tennis_data <- tennis |>\n",
    "  select(Age, Plays, 'Current Rank') |>\n",
    "map_df(~sum(is.na(.)))\n",
    "names(tennis_data) <- c(\"Age\", \"Plays\", \"Current_rank\")\n",
    "tennis_data"
   ]
  },
  {
   "cell_type": "code",
   "execution_count": 4,
   "id": "92d74d1e-98e7-4b81-b991-16d267ed84ba",
   "metadata": {},
   "outputs": [
    {
     "data": {
      "text/html": [
       "<table class=\"dataframe\">\n",
       "<caption>A tibble: 6 × 3</caption>\n",
       "<thead>\n",
       "\t<tr><th scope=col>handedness</th><th scope=col>Age</th><th scope=col>Current_rank</th></tr>\n",
       "\t<tr><th scope=col>&lt;fct&gt;</th><th scope=col>&lt;chr&gt;</th><th scope=col>&lt;chr&gt;</th></tr>\n",
       "</thead>\n",
       "<tbody>\n",
       "\t<tr><td>Right-handed</td><td>26 (25-04-1993)</td><td>378 (97) </td></tr>\n",
       "\t<tr><td>Left-handed </td><td>18 (22-12-2001)</td><td>326 (119)</td></tr>\n",
       "\t<tr><td>Right-handed</td><td>32 (03-11-1987)</td><td>178 (280)</td></tr>\n",
       "\t<tr><td>Right-handed</td><td>21 (29-05-1998)</td><td>236 (199)</td></tr>\n",
       "\t<tr><td>Right-handed</td><td>27 (21-10-1992)</td><td>183 (273)</td></tr>\n",
       "\t<tr><td>Right-handed</td><td>22 (11-02-1997)</td><td>31 (1398)</td></tr>\n",
       "</tbody>\n",
       "</table>\n"
      ],
      "text/latex": [
       "A tibble: 6 × 3\n",
       "\\begin{tabular}{lll}\n",
       " handedness & Age & Current\\_rank\\\\\n",
       " <fct> & <chr> & <chr>\\\\\n",
       "\\hline\n",
       "\t Right-handed & 26 (25-04-1993) & 378 (97) \\\\\n",
       "\t Left-handed  & 18 (22-12-2001) & 326 (119)\\\\\n",
       "\t Right-handed & 32 (03-11-1987) & 178 (280)\\\\\n",
       "\t Right-handed & 21 (29-05-1998) & 236 (199)\\\\\n",
       "\t Right-handed & 27 (21-10-1992) & 183 (273)\\\\\n",
       "\t Right-handed & 22 (11-02-1997) & 31 (1398)\\\\\n",
       "\\end{tabular}\n"
      ],
      "text/markdown": [
       "\n",
       "A tibble: 6 × 3\n",
       "\n",
       "| handedness &lt;fct&gt; | Age &lt;chr&gt; | Current_rank &lt;chr&gt; |\n",
       "|---|---|---|\n",
       "| Right-handed | 26 (25-04-1993) | 378 (97)  |\n",
       "| Left-handed  | 18 (22-12-2001) | 326 (119) |\n",
       "| Right-handed | 32 (03-11-1987) | 178 (280) |\n",
       "| Right-handed | 21 (29-05-1998) | 236 (199) |\n",
       "| Right-handed | 27 (21-10-1992) | 183 (273) |\n",
       "| Right-handed | 22 (11-02-1997) | 31 (1398) |\n",
       "\n"
      ],
      "text/plain": [
       "  handedness   Age             Current_rank\n",
       "1 Right-handed 26 (25-04-1993) 378 (97)    \n",
       "2 Left-handed  18 (22-12-2001) 326 (119)   \n",
       "3 Right-handed 32 (03-11-1987) 178 (280)   \n",
       "4 Right-handed 21 (29-05-1998) 236 (199)   \n",
       "5 Right-handed 27 (21-10-1992) 183 (273)   \n",
       "6 Right-handed 22 (11-02-1997) 31 (1398)   "
      ]
     },
     "metadata": {},
     "output_type": "display_data"
    }
   ],
   "source": [
    "tennis_data <- tennis |>\n",
    "select(Age, Plays, 'Current Rank') \n",
    "names(tennis_data) <- c(\"Age\", \"Plays\", \"Current_rank\")\n",
    "tennis_data <- tennis_data |>\n",
    "    mutate(handedness = case_when(\n",
    "    Plays == \"Left-handed\" ~ \"Left-handed\",\n",
    "    Plays == \"Right-handed\" ~ \"Right-handed\",\n",
    "    TRUE ~ NA_character_\n",
    "  )) |>\n",
    "  mutate(handedness = as_factor(handedness)) %>%\n",
    "  select(handedness, Age, Current_rank)\n",
    "head(tennis_data)"
   ]
  },
  {
   "cell_type": "code",
   "execution_count": 41,
   "id": "5ae0efcf-0626-4a63-b0e9-32c68e419eb0",
   "metadata": {},
   "outputs": [
    {
     "data": {
      "text/html": [
       "<table class=\"dataframe\">\n",
       "<caption>A tibble: 6 × 3</caption>\n",
       "<thead>\n",
       "\t<tr><th scope=col>handedness</th><th scope=col>Age</th><th scope=col>Current_rank</th></tr>\n",
       "\t<tr><th scope=col>&lt;fct&gt;</th><th scope=col>&lt;dbl&gt;</th><th scope=col>&lt;dbl&gt;</th></tr>\n",
       "</thead>\n",
       "<tbody>\n",
       "\t<tr><td>Right-handed</td><td>26</td><td>378</td></tr>\n",
       "\t<tr><td>Left-handed </td><td>18</td><td>326</td></tr>\n",
       "\t<tr><td>Right-handed</td><td>32</td><td>178</td></tr>\n",
       "\t<tr><td>Right-handed</td><td>21</td><td>236</td></tr>\n",
       "\t<tr><td>Right-handed</td><td>27</td><td>183</td></tr>\n",
       "\t<tr><td>Right-handed</td><td>22</td><td> 31</td></tr>\n",
       "</tbody>\n",
       "</table>\n"
      ],
      "text/latex": [
       "A tibble: 6 × 3\n",
       "\\begin{tabular}{lll}\n",
       " handedness & Age & Current\\_rank\\\\\n",
       " <fct> & <dbl> & <dbl>\\\\\n",
       "\\hline\n",
       "\t Right-handed & 26 & 378\\\\\n",
       "\t Left-handed  & 18 & 326\\\\\n",
       "\t Right-handed & 32 & 178\\\\\n",
       "\t Right-handed & 21 & 236\\\\\n",
       "\t Right-handed & 27 & 183\\\\\n",
       "\t Right-handed & 22 &  31\\\\\n",
       "\\end{tabular}\n"
      ],
      "text/markdown": [
       "\n",
       "A tibble: 6 × 3\n",
       "\n",
       "| handedness &lt;fct&gt; | Age &lt;dbl&gt; | Current_rank &lt;dbl&gt; |\n",
       "|---|---|---|\n",
       "| Right-handed | 26 | 378 |\n",
       "| Left-handed  | 18 | 326 |\n",
       "| Right-handed | 32 | 178 |\n",
       "| Right-handed | 21 | 236 |\n",
       "| Right-handed | 27 | 183 |\n",
       "| Right-handed | 22 |  31 |\n",
       "\n"
      ],
      "text/plain": [
       "  handedness   Age Current_rank\n",
       "1 Right-handed 26  378         \n",
       "2 Left-handed  18  326         \n",
       "3 Right-handed 32  178         \n",
       "4 Right-handed 21  236         \n",
       "5 Right-handed 27  183         \n",
       "6 Right-handed 22   31         "
      ]
     },
     "metadata": {},
     "output_type": "display_data"
    }
   ],
   "source": [
    "tennis_data <- tennis_data |>\n",
    "select(handedness, Age, Current_rank) %>%\n",
    "mutate(across(Age: Current_rank, function(col) {str_extract(col, \"^[^ ]+\")}))|>\n",
    "                mutate(Age = as.numeric(Age))|>\n",
    "                mutate(Current_rank = as.numeric(Current_rank))|>\n",
    "                mutate(across(handedness, as.factor)) |>\n",
    "  filter(!is.na(handedness) & !is.na(Age) & !is.na(Current_rank))\n",
    "head(tennis_data)"
   ]
  },
  {
   "cell_type": "code",
   "execution_count": 42,
   "id": "5586e866-9cd5-4049-816f-6e976a5b1292",
   "metadata": {},
   "outputs": [
    {
     "name": "stdout",
     "output_type": "stream",
     "text": [
      "Rows: 338\n",
      "Columns: 3\n",
      "$ handedness   \u001b[3m\u001b[90m<fct>\u001b[39m\u001b[23m Left-handed, Left-handed, Left-handed, Left-handed, Left-…\n",
      "$ Age          \u001b[3m\u001b[90m<dbl>\u001b[39m\u001b[23m 18, 23, 20, 21, 33, 27, 20, 32, 27, 28, 31, 29, 20, 25, 1…\n",
      "$ Current_rank \u001b[3m\u001b[90m<dbl>\u001b[39m\u001b[23m 326, 431, 331, 43, 1, 140, 70, 42, 222, 312, 455, 76, 13,…\n",
      "Rows: 114\n",
      "Columns: 3\n",
      "$ handedness   \u001b[3m\u001b[90m<fct>\u001b[39m\u001b[23m Right-handed, Right-handed, Right-handed, Right-handed, R…\n",
      "$ Age          \u001b[3m\u001b[90m<dbl>\u001b[39m\u001b[23m 26, 32, 21, 28, 22, 30, 30, 21, 29, 27, 28, 26, 34, 27, 2…\n",
      "$ Current_rank \u001b[3m\u001b[90m<dbl>\u001b[39m\u001b[23m 378, 178, 236, 148, 133, 105, 123, 388, 27, 384, 314, 374…\n"
     ]
    }
   ],
   "source": [
    "set.seed(999)\n",
    "tennis_split <- initial_split(tennis_data, prop = 0.75, strata = handedness)  \n",
    "tennis_train <- training(tennis_split)   \n",
    "tennis_test <- testing(tennis_split)\n",
    "glimpse(tennis_train)\n",
    "glimpse(tennis_test)"
   ]
  },
  {
   "cell_type": "code",
   "execution_count": 43,
   "id": "ed80033a-b7d2-4c98-9c8c-bac1bf6dad2b",
   "metadata": {},
   "outputs": [
    {
     "data": {
      "text/html": [
       "<table class=\"dataframe\">\n",
       "<caption>A tibble: 2 × 3</caption>\n",
       "<thead>\n",
       "\t<tr><th scope=col>handedness</th><th scope=col>avg_age</th><th scope=col>avg_current_rank</th></tr>\n",
       "\t<tr><th scope=col>&lt;fct&gt;</th><th scope=col>&lt;dbl&gt;</th><th scope=col>&lt;dbl&gt;</th></tr>\n",
       "</thead>\n",
       "<tbody>\n",
       "\t<tr><td>Right-handed</td><td>26.45548</td><td>232.3459</td></tr>\n",
       "\t<tr><td>Left-handed </td><td>26.50000</td><td>230.7391</td></tr>\n",
       "</tbody>\n",
       "</table>\n"
      ],
      "text/latex": [
       "A tibble: 2 × 3\n",
       "\\begin{tabular}{lll}\n",
       " handedness & avg\\_age & avg\\_current\\_rank\\\\\n",
       " <fct> & <dbl> & <dbl>\\\\\n",
       "\\hline\n",
       "\t Right-handed & 26.45548 & 232.3459\\\\\n",
       "\t Left-handed  & 26.50000 & 230.7391\\\\\n",
       "\\end{tabular}\n"
      ],
      "text/markdown": [
       "\n",
       "A tibble: 2 × 3\n",
       "\n",
       "| handedness &lt;fct&gt; | avg_age &lt;dbl&gt; | avg_current_rank &lt;dbl&gt; |\n",
       "|---|---|---|\n",
       "| Right-handed | 26.45548 | 232.3459 |\n",
       "| Left-handed  | 26.50000 | 230.7391 |\n",
       "\n"
      ],
      "text/plain": [
       "  handedness   avg_age  avg_current_rank\n",
       "1 Right-handed 26.45548 232.3459        \n",
       "2 Left-handed  26.50000 230.7391        "
      ]
     },
     "metadata": {},
     "output_type": "display_data"
    },
    {
     "data": {
      "text/html": [
       "<table class=\"dataframe\">\n",
       "<caption>A tibble: 2 × 3</caption>\n",
       "<thead>\n",
       "\t<tr><th scope=col>handedness</th><th scope=col>sd_age</th><th scope=col>sd_current_rank</th></tr>\n",
       "\t<tr><th scope=col>&lt;fct&gt;</th><th scope=col>&lt;dbl&gt;</th><th scope=col>&lt;dbl&gt;</th></tr>\n",
       "</thead>\n",
       "<tbody>\n",
       "\t<tr><td>Right-handed</td><td>4.528042</td><td>144.1600</td></tr>\n",
       "\t<tr><td>Left-handed </td><td>4.726991</td><td>148.7444</td></tr>\n",
       "</tbody>\n",
       "</table>\n"
      ],
      "text/latex": [
       "A tibble: 2 × 3\n",
       "\\begin{tabular}{lll}\n",
       " handedness & sd\\_age & sd\\_current\\_rank\\\\\n",
       " <fct> & <dbl> & <dbl>\\\\\n",
       "\\hline\n",
       "\t Right-handed & 4.528042 & 144.1600\\\\\n",
       "\t Left-handed  & 4.726991 & 148.7444\\\\\n",
       "\\end{tabular}\n"
      ],
      "text/markdown": [
       "\n",
       "A tibble: 2 × 3\n",
       "\n",
       "| handedness &lt;fct&gt; | sd_age &lt;dbl&gt; | sd_current_rank &lt;dbl&gt; |\n",
       "|---|---|---|\n",
       "| Right-handed | 4.528042 | 144.1600 |\n",
       "| Left-handed  | 4.726991 | 148.7444 |\n",
       "\n"
      ],
      "text/plain": [
       "  handedness   sd_age   sd_current_rank\n",
       "1 Right-handed 4.528042 144.1600       \n",
       "2 Left-handed  4.726991 148.7444       "
      ]
     },
     "metadata": {},
     "output_type": "display_data"
    }
   ],
   "source": [
    "set.seed(999)\n",
    "tennis_summary_avg <- tennis_train %>%\n",
    "  group_by(handedness) %>%\n",
    "  summarize(\n",
    "    avg_age = mean(Age),\n",
    "    avg_current_rank = mean(Current_rank)\n",
    "  )\n",
    "\n",
    "tennis_summary_avg\n",
    "\n",
    "tennis_summary_sd <- tennis_train %>%\n",
    "  group_by(handedness) %>%\n",
    "  summarize(\n",
    "    sd_age = sd(Age),\n",
    "    sd_current_rank = sd(Current_rank)\n",
    "  )\n",
    "\n",
    "tennis_summary_sd"
   ]
  },
  {
   "cell_type": "code",
   "execution_count": 44,
   "id": "84687c55-dc50-4353-99b2-f950595662cd",
   "metadata": {},
   "outputs": [
    {
     "data": {
      "image/png": "[encoded data removed]",
      "text/plain": [
       "plot without title"
      ]
     },
     "metadata": {
      "image/png": {
       "height": 420,
       "width": 420
      }
     },
     "output_type": "display_data"
    }
   ],
   "source": [
    "handedness_age_vs_rank <- tennis_train|>\n",
    "    filter(handedness != \"NA\") |>\n",
    "    ggplot(aes(x = Age, y = Current_rank, \n",
    "            color = handedness,shape = handedness)) +\n",
    "  geom_point(alpha = 1, size = 3) +\n",
    "  labs(x = \" Age(years)\", y = \"Current Rank\") +\n",
    "  ggtitle(\"Current Rank vs. Age\") +\n",
    "      theme(text = element_text(size = 20)) \n",
    "handedness_age_vs_rank"
   ]
  },
  {
   "cell_type": "code",
   "execution_count": 45,
   "id": "9eff210a-8ae3-4f5f-ba1d-b4db9388955d",
   "metadata": {},
   "outputs": [
    {
     "data": {
      "image/png": "[encoded data removed]",
      "text/plain": [
       "plot without title"
      ]
     },
     "metadata": {
      "image/png": {
       "height": 420,
       "width": 420
      }
     },
     "output_type": "display_data"
    }
   ],
   "source": [
    "set.seed(999)\n",
    "current_rank_plot <- ggplot(tennis_train, aes(x = handedness, y = Current_rank)) +\n",
    "  geom_boxplot() +\n",
    "  xlab(\"Handedness\") +\n",
    "  ylab(\"Current Rank\") +\n",
    "  theme_bw() +\n",
    "  theme(text = element_text(size = 20))\n",
    "\n",
    "current_rank_plot"
   ]
  },
  {
   "cell_type": "code",
   "execution_count": 46,
   "id": "15a73c1f-feb1-4ede-bd37-012cc7d2533e",
   "metadata": {},
   "outputs": [
    {
     "data": {
      "text/html": [
       "<table class=\"dataframe\">\n",
       "<caption>A tibble: 2 × 3</caption>\n",
       "<thead>\n",
       "\t<tr><th scope=col>handedness</th><th scope=col>n</th><th scope=col>percent</th></tr>\n",
       "\t<tr><th scope=col>&lt;fct&gt;</th><th scope=col>&lt;int&gt;</th><th scope=col>&lt;dbl&gt;</th></tr>\n",
       "</thead>\n",
       "<tbody>\n",
       "\t<tr><td>Right-handed</td><td>292</td><td>86.39053</td></tr>\n",
       "\t<tr><td>Left-handed </td><td> 46</td><td>13.60947</td></tr>\n",
       "</tbody>\n",
       "</table>\n"
      ],
      "text/latex": [
       "A tibble: 2 × 3\n",
       "\\begin{tabular}{lll}\n",
       " handedness & n & percent\\\\\n",
       " <fct> & <int> & <dbl>\\\\\n",
       "\\hline\n",
       "\t Right-handed & 292 & 86.39053\\\\\n",
       "\t Left-handed  &  46 & 13.60947\\\\\n",
       "\\end{tabular}\n"
      ],
      "text/markdown": [
       "\n",
       "A tibble: 2 × 3\n",
       "\n",
       "| handedness &lt;fct&gt; | n &lt;int&gt; | percent &lt;dbl&gt; |\n",
       "|---|---|---|\n",
       "| Right-handed | 292 | 86.39053 |\n",
       "| Left-handed  |  46 | 13.60947 |\n",
       "\n"
      ],
      "text/plain": [
       "  handedness   n   percent \n",
       "1 Right-handed 292 86.39053\n",
       "2 Left-handed   46 13.60947"
      ]
     },
     "metadata": {},
     "output_type": "display_data"
    }
   ],
   "source": [
    "set.seed(999)\n",
    "tennis_proportions <- tennis_train |>\n",
    "                      group_by(handedness) |>\n",
    "                      summarize(n = n()) |>\n",
    "                      mutate(percent = 100*n/nrow(tennis_train))\n",
    "\n",
    "tennis_proportions"
   ]
  },
  {
   "cell_type": "code",
   "execution_count": 47,
   "id": "9501d6cf-4cb7-4f68-af8d-787068891101",
   "metadata": {},
   "outputs": [],
   "source": [
    "set.seed(999) \n",
    "knn_spec <- nearest_neighbor(weight_func = \"rectangular\", neighbors = tune()) |>\n",
    "  set_engine(\"kknn\") |>\n",
    "  set_mode(\"classification\")\n",
    "\n",
    "tennis_recipe <- recipe(handedness ~., data = tennis_train) |>\n",
    "  step_scale(all_predictors()) |>\n",
    "  step_center(all_predictors())\n",
    "\n",
    "tennis_vfold <- vfold_cv(tennis_train, v = 10, strata = handedness)"
   ]
  },
  {
   "cell_type": "code",
   "execution_count": 48,
   "id": "0082af95-77e1-44c9-9489-a202905a5698",
   "metadata": {},
   "outputs": [
    {
     "data": {
      "text/html": [
       "<table class=\"dataframe\">\n",
       "<caption>A tibble: 10 × 7</caption>\n",
       "<thead>\n",
       "\t<tr><th scope=col>neighbors</th><th scope=col>.metric</th><th scope=col>.estimator</th><th scope=col>mean</th><th scope=col>n</th><th scope=col>std_err</th><th scope=col>.config</th></tr>\n",
       "\t<tr><th scope=col>&lt;int&gt;</th><th scope=col>&lt;chr&gt;</th><th scope=col>&lt;chr&gt;</th><th scope=col>&lt;dbl&gt;</th><th scope=col>&lt;int&gt;</th><th scope=col>&lt;dbl&gt;</th><th scope=col>&lt;chr&gt;</th></tr>\n",
       "</thead>\n",
       "<tbody>\n",
       "\t<tr><td> 2</td><td>accuracy</td><td>binary</td><td>0.7659715</td><td>10</td><td>0.017454338</td><td>Preprocessor1_Model01</td></tr>\n",
       "\t<tr><td> 3</td><td>accuracy</td><td>binary</td><td>0.8287217</td><td>10</td><td>0.012633975</td><td>Preprocessor1_Model02</td></tr>\n",
       "\t<tr><td> 4</td><td>accuracy</td><td>binary</td><td>0.8287217</td><td>10</td><td>0.012633975</td><td>Preprocessor1_Model03</td></tr>\n",
       "\t<tr><td> 6</td><td>accuracy</td><td>binary</td><td>0.8344309</td><td>10</td><td>0.008701666</td><td>Preprocessor1_Model04</td></tr>\n",
       "\t<tr><td> 7</td><td>accuracy</td><td>binary</td><td>0.8522613</td><td>10</td><td>0.005625132</td><td>Preprocessor1_Model05</td></tr>\n",
       "\t<tr><td> 8</td><td>accuracy</td><td>binary</td><td>0.8522613</td><td>10</td><td>0.005625132</td><td>Preprocessor1_Model06</td></tr>\n",
       "\t<tr><td>10</td><td>accuracy</td><td>binary</td><td>0.8641202</td><td>10</td><td>0.004024663</td><td>Preprocessor1_Model07</td></tr>\n",
       "\t<tr><td>12</td><td>accuracy</td><td>binary</td><td>0.8612631</td><td>10</td><td>0.005365746</td><td>Preprocessor1_Model08</td></tr>\n",
       "\t<tr><td>13</td><td>accuracy</td><td>binary</td><td>0.8641202</td><td>10</td><td>0.004024663</td><td>Preprocessor1_Model09</td></tr>\n",
       "\t<tr><td>14</td><td>accuracy</td><td>binary</td><td>0.8641202</td><td>10</td><td>0.004024663</td><td>Preprocessor1_Model10</td></tr>\n",
       "</tbody>\n",
       "</table>\n"
      ],
      "text/latex": [
       "A tibble: 10 × 7\n",
       "\\begin{tabular}{lllllll}\n",
       " neighbors & .metric & .estimator & mean & n & std\\_err & .config\\\\\n",
       " <int> & <chr> & <chr> & <dbl> & <int> & <dbl> & <chr>\\\\\n",
       "\\hline\n",
       "\t  2 & accuracy & binary & 0.7659715 & 10 & 0.017454338 & Preprocessor1\\_Model01\\\\\n",
       "\t  3 & accuracy & binary & 0.8287217 & 10 & 0.012633975 & Preprocessor1\\_Model02\\\\\n",
       "\t  4 & accuracy & binary & 0.8287217 & 10 & 0.012633975 & Preprocessor1\\_Model03\\\\\n",
       "\t  6 & accuracy & binary & 0.8344309 & 10 & 0.008701666 & Preprocessor1\\_Model04\\\\\n",
       "\t  7 & accuracy & binary & 0.8522613 & 10 & 0.005625132 & Preprocessor1\\_Model05\\\\\n",
       "\t  8 & accuracy & binary & 0.8522613 & 10 & 0.005625132 & Preprocessor1\\_Model06\\\\\n",
       "\t 10 & accuracy & binary & 0.8641202 & 10 & 0.004024663 & Preprocessor1\\_Model07\\\\\n",
       "\t 12 & accuracy & binary & 0.8612631 & 10 & 0.005365746 & Preprocessor1\\_Model08\\\\\n",
       "\t 13 & accuracy & binary & 0.8641202 & 10 & 0.004024663 & Preprocessor1\\_Model09\\\\\n",
       "\t 14 & accuracy & binary & 0.8641202 & 10 & 0.004024663 & Preprocessor1\\_Model10\\\\\n",
       "\\end{tabular}\n"
      ],
      "text/markdown": [
       "\n",
       "A tibble: 10 × 7\n",
       "\n",
       "| neighbors &lt;int&gt; | .metric &lt;chr&gt; | .estimator &lt;chr&gt; | mean &lt;dbl&gt; | n &lt;int&gt; | std_err &lt;dbl&gt; | .config &lt;chr&gt; |\n",
       "|---|---|---|---|---|---|---|\n",
       "|  2 | accuracy | binary | 0.7659715 | 10 | 0.017454338 | Preprocessor1_Model01 |\n",
       "|  3 | accuracy | binary | 0.8287217 | 10 | 0.012633975 | Preprocessor1_Model02 |\n",
       "|  4 | accuracy | binary | 0.8287217 | 10 | 0.012633975 | Preprocessor1_Model03 |\n",
       "|  6 | accuracy | binary | 0.8344309 | 10 | 0.008701666 | Preprocessor1_Model04 |\n",
       "|  7 | accuracy | binary | 0.8522613 | 10 | 0.005625132 | Preprocessor1_Model05 |\n",
       "|  8 | accuracy | binary | 0.8522613 | 10 | 0.005625132 | Preprocessor1_Model06 |\n",
       "| 10 | accuracy | binary | 0.8641202 | 10 | 0.004024663 | Preprocessor1_Model07 |\n",
       "| 12 | accuracy | binary | 0.8612631 | 10 | 0.005365746 | Preprocessor1_Model08 |\n",
       "| 13 | accuracy | binary | 0.8641202 | 10 | 0.004024663 | Preprocessor1_Model09 |\n",
       "| 14 | accuracy | binary | 0.8641202 | 10 | 0.004024663 | Preprocessor1_Model10 |\n",
       "\n"
      ],
      "text/plain": [
       "   neighbors .metric  .estimator mean      n  std_err     .config              \n",
       "1   2        accuracy binary     0.7659715 10 0.017454338 Preprocessor1_Model01\n",
       "2   3        accuracy binary     0.8287217 10 0.012633975 Preprocessor1_Model02\n",
       "3   4        accuracy binary     0.8287217 10 0.012633975 Preprocessor1_Model03\n",
       "4   6        accuracy binary     0.8344309 10 0.008701666 Preprocessor1_Model04\n",
       "5   7        accuracy binary     0.8522613 10 0.005625132 Preprocessor1_Model05\n",
       "6   8        accuracy binary     0.8522613 10 0.005625132 Preprocessor1_Model06\n",
       "7  10        accuracy binary     0.8641202 10 0.004024663 Preprocessor1_Model07\n",
       "8  12        accuracy binary     0.8612631 10 0.005365746 Preprocessor1_Model08\n",
       "9  13        accuracy binary     0.8641202 10 0.004024663 Preprocessor1_Model09\n",
       "10 14        accuracy binary     0.8641202 10 0.004024663 Preprocessor1_Model10"
      ]
     },
     "metadata": {},
     "output_type": "display_data"
    }
   ],
   "source": [
    "set.seed(999) \n",
    "\n",
    "knn_results <- workflow() |>\n",
    "                 add_recipe(tennis_recipe) |>\n",
    "                 add_model(knn_spec) |>\n",
    "                 tune_grid(resamples = tennis_vfold, grid = 10) |>\n",
    "                 collect_metrics()\n",
    "\n",
    "accuracies <- knn_results |>\n",
    "                 filter(.metric == 'accuracy')\n",
    "accuracies\n",
    " "
   ]
  },
  {
   "cell_type": "code",
   "execution_count": 49,
   "id": "a210ca88-2680-4a60-ab46-6e6447f9b92e",
   "metadata": {},
   "outputs": [
    {
     "data": {
      "image/png": "[encoded data removed]",
      "text/plain": [
       "plot without title"
      ]
     },
     "metadata": {
      "image/png": {
       "height": 300,
       "width": 360
      }
     },
     "output_type": "display_data"
    }
   ],
   "source": [
    "set.seed(999) \n",
    "options(repr.plot.height = 5, repr.plot.width = 6)\n",
    "accuracy_vs_k <- ggplot(accuracies, aes(x = neighbors, y = mean)) +\n",
    "                  geom_point() +\n",
    "                  geom_line() +\n",
    "                  labs(x = 'Neighbors', y = 'Accuracy Estimate') +\n",
    "                  theme(text = element_text(size = 12))\n",
    "\n",
    "accuracy_vs_k"
   ]
  },
  {
   "cell_type": "code",
   "execution_count": 50,
   "id": "dad20664-bab7-4c15-a44d-b3e2d02521b2",
   "metadata": {},
   "outputs": [
    {
     "data": {
      "text/plain": [
       "══ Workflow [trained] ══════════════════════════════════════════════════════════\n",
       "\u001b[3mPreprocessor:\u001b[23m Recipe\n",
       "\u001b[3mModel:\u001b[23m nearest_neighbor()\n",
       "\n",
       "── Preprocessor ────────────────────────────────────────────────────────────────\n",
       "2 Recipe Steps\n",
       "\n",
       "• step_scale()\n",
       "• step_center()\n",
       "\n",
       "── Model ───────────────────────────────────────────────────────────────────────\n",
       "\n",
       "Call:\n",
       "kknn::train.kknn(formula = ..y ~ ., data = data, ks = min_rows(18,     data, 5), kernel = ~\"rectangular\")\n",
       "\n",
       "Type of response variable: nominal\n",
       "Minimal misclassification: 0.1360947\n",
       "Best kernel: rectangular\n",
       "Best k: 18"
      ]
     },
     "metadata": {},
     "output_type": "display_data"
    }
   ],
   "source": [
    "knn_spec <- nearest_neighbor(weight_func = \"rectangular\", neighbors = 18) |>\n",
    "  set_engine(\"kknn\") |>\n",
    "  set_mode(\"classification\")\n",
    "\n",
    "knn_fit <- workflow() |>\n",
    "             add_recipe(tennis_recipe) |>\n",
    "             add_model(knn_spec) |>\n",
    "            fit(data = tennis_train)\n",
    "knn_fit"
   ]
  },
  {
   "cell_type": "code",
   "execution_count": 51,
   "id": "bbe7427b-660d-4a6b-8d44-a36859ed58ff",
   "metadata": {},
   "outputs": [
    {
     "data": {
      "text/html": [
       "<table class=\"dataframe\">\n",
       "<caption>A tibble: 6 × 4</caption>\n",
       "<thead>\n",
       "\t<tr><th scope=col>.pred_class</th><th scope=col>handedness</th><th scope=col>Age</th><th scope=col>Current_rank</th></tr>\n",
       "\t<tr><th scope=col>&lt;fct&gt;</th><th scope=col>&lt;fct&gt;</th><th scope=col>&lt;dbl&gt;</th><th scope=col>&lt;dbl&gt;</th></tr>\n",
       "</thead>\n",
       "<tbody>\n",
       "\t<tr><td>Right-handed</td><td>Right-handed</td><td>26</td><td>378</td></tr>\n",
       "\t<tr><td>Right-handed</td><td>Right-handed</td><td>32</td><td>178</td></tr>\n",
       "\t<tr><td>Right-handed</td><td>Right-handed</td><td>21</td><td>236</td></tr>\n",
       "\t<tr><td>Right-handed</td><td>Right-handed</td><td>28</td><td>148</td></tr>\n",
       "\t<tr><td>Right-handed</td><td>Right-handed</td><td>22</td><td>133</td></tr>\n",
       "\t<tr><td>Right-handed</td><td>Right-handed</td><td>30</td><td>105</td></tr>\n",
       "</tbody>\n",
       "</table>\n"
      ],
      "text/latex": [
       "A tibble: 6 × 4\n",
       "\\begin{tabular}{llll}\n",
       " .pred\\_class & handedness & Age & Current\\_rank\\\\\n",
       " <fct> & <fct> & <dbl> & <dbl>\\\\\n",
       "\\hline\n",
       "\t Right-handed & Right-handed & 26 & 378\\\\\n",
       "\t Right-handed & Right-handed & 32 & 178\\\\\n",
       "\t Right-handed & Right-handed & 21 & 236\\\\\n",
       "\t Right-handed & Right-handed & 28 & 148\\\\\n",
       "\t Right-handed & Right-handed & 22 & 133\\\\\n",
       "\t Right-handed & Right-handed & 30 & 105\\\\\n",
       "\\end{tabular}\n"
      ],
      "text/markdown": [
       "\n",
       "A tibble: 6 × 4\n",
       "\n",
       "| .pred_class &lt;fct&gt; | handedness &lt;fct&gt; | Age &lt;dbl&gt; | Current_rank &lt;dbl&gt; |\n",
       "|---|---|---|---|\n",
       "| Right-handed | Right-handed | 26 | 378 |\n",
       "| Right-handed | Right-handed | 32 | 178 |\n",
       "| Right-handed | Right-handed | 21 | 236 |\n",
       "| Right-handed | Right-handed | 28 | 148 |\n",
       "| Right-handed | Right-handed | 22 | 133 |\n",
       "| Right-handed | Right-handed | 30 | 105 |\n",
       "\n"
      ],
      "text/plain": [
       "  .pred_class  handedness   Age Current_rank\n",
       "1 Right-handed Right-handed 26  378         \n",
       "2 Right-handed Right-handed 32  178         \n",
       "3 Right-handed Right-handed 21  236         \n",
       "4 Right-handed Right-handed 28  148         \n",
       "5 Right-handed Right-handed 22  133         \n",
       "6 Right-handed Right-handed 30  105         "
      ]
     },
     "metadata": {},
     "output_type": "display_data"
    },
    {
     "data": {
      "text/html": [
       "<table class=\"dataframe\">\n",
       "<caption>A tibble: 1 × 3</caption>\n",
       "<thead>\n",
       "\t<tr><th scope=col>.metric</th><th scope=col>.estimator</th><th scope=col>.estimate</th></tr>\n",
       "\t<tr><th scope=col>&lt;chr&gt;</th><th scope=col>&lt;chr&gt;</th><th scope=col>&lt;dbl&gt;</th></tr>\n",
       "</thead>\n",
       "<tbody>\n",
       "\t<tr><td>accuracy</td><td>binary</td><td>0.8596491</td></tr>\n",
       "</tbody>\n",
       "</table>\n"
      ],
      "text/latex": [
       "A tibble: 1 × 3\n",
       "\\begin{tabular}{lll}\n",
       " .metric & .estimator & .estimate\\\\\n",
       " <chr> & <chr> & <dbl>\\\\\n",
       "\\hline\n",
       "\t accuracy & binary & 0.8596491\\\\\n",
       "\\end{tabular}\n"
      ],
      "text/markdown": [
       "\n",
       "A tibble: 1 × 3\n",
       "\n",
       "| .metric &lt;chr&gt; | .estimator &lt;chr&gt; | .estimate &lt;dbl&gt; |\n",
       "|---|---|---|\n",
       "| accuracy | binary | 0.8596491 |\n",
       "\n"
      ],
      "text/plain": [
       "  .metric  .estimator .estimate\n",
       "1 accuracy binary     0.8596491"
      ]
     },
     "metadata": {},
     "output_type": "display_data"
    },
    {
     "data": {
      "text/plain": [
       "              Truth\n",
       "Prediction     Right-handed Left-handed\n",
       "  Right-handed           98          16\n",
       "  Left-handed             0           0"
      ]
     },
     "metadata": {},
     "output_type": "display_data"
    }
   ],
   "source": [
    "set.seed(9999) \n",
    "\n",
    "# your code here\n",
    "tennis_predictions <- predict(knn_fit, tennis_test) |>\n",
    "bind_cols(tennis_test)\n",
    "tennis_metrics <- tennis_predictions |>\n",
    "         metrics(truth = handedness, estimate = .pred_class) |>\n",
    "  filter(.metric == \"accuracy\")\n",
    "tennis_mat <- tennis_predictions |>\n",
    "         conf_mat(truth = handedness, estimate = .pred_class)\n",
    "head(tennis_predictions)\n",
    "tennis_metrics\n",
    "tennis_mat"
   ]
  },
  {
   "cell_type": "code",
   "execution_count": null,
   "id": "5ebdd980-943a-404c-8bea-02c7a0010252",
   "metadata": {},
   "outputs": [],
   "source": []
  }
 ],
 "metadata": {
  "kernelspec": {
   "display_name": "R",
   "language": "R",
   "name": "ir"
  },
  "language_info": {
   "codemirror_mode": "r",
   "file_extension": ".r",
   "mimetype": "text/x-r-source",
   "name": "R",
   "pygments_lexer": "r",
   "version": "4.1.3"
  }
 },
 "nbformat": 4,
 "nbformat_minor": 5
}
