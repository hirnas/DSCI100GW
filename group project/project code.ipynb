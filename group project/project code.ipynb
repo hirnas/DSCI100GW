{
 "cells": [
  {
   "cell_type": "code",
   "execution_count": 1,
   "id": "b28253b0-5401-4490-9144-cd7db66c531b",
   "metadata": {},
   "outputs": [
    {
     "name": "stderr",
     "output_type": "stream",
     "text": [
      "── \u001b[1mAttaching packages\u001b[22m ─────────────────────────────────────── tidyverse 1.3.1 ──\n",
      "\n",
      "\u001b[32m✔\u001b[39m \u001b[34mggplot2\u001b[39m 3.3.6     \u001b[32m✔\u001b[39m \u001b[34mpurrr  \u001b[39m 0.3.4\n",
      "\u001b[32m✔\u001b[39m \u001b[34mtibble \u001b[39m 3.1.7     \u001b[32m✔\u001b[39m \u001b[34mdplyr  \u001b[39m 1.0.9\n",
      "\u001b[32m✔\u001b[39m \u001b[34mtidyr  \u001b[39m 1.2.0     \u001b[32m✔\u001b[39m \u001b[34mstringr\u001b[39m 1.4.0\n",
      "\u001b[32m✔\u001b[39m \u001b[34mreadr  \u001b[39m 2.1.2     \u001b[32m✔\u001b[39m \u001b[34mforcats\u001b[39m 0.5.1\n",
      "\n",
      "── \u001b[1mConflicts\u001b[22m ────────────────────────────────────────── tidyverse_conflicts() ──\n",
      "\u001b[31m✖\u001b[39m \u001b[34mdplyr\u001b[39m::\u001b[32mfilter()\u001b[39m masks \u001b[34mstats\u001b[39m::filter()\n",
      "\u001b[31m✖\u001b[39m \u001b[34mdplyr\u001b[39m::\u001b[32mlag()\u001b[39m    masks \u001b[34mstats\u001b[39m::lag()\n",
      "\n",
      "── \u001b[1mAttaching packages\u001b[22m ────────────────────────────────────── tidymodels 1.0.0 ──\n",
      "\n",
      "\u001b[32m✔\u001b[39m \u001b[34mbroom       \u001b[39m 1.0.0     \u001b[32m✔\u001b[39m \u001b[34mrsample     \u001b[39m 1.0.0\n",
      "\u001b[32m✔\u001b[39m \u001b[34mdials       \u001b[39m 1.0.0     \u001b[32m✔\u001b[39m \u001b[34mtune        \u001b[39m 1.0.0\n",
      "\u001b[32m✔\u001b[39m \u001b[34minfer       \u001b[39m 1.0.2     \u001b[32m✔\u001b[39m \u001b[34mworkflows   \u001b[39m 1.0.0\n",
      "\u001b[32m✔\u001b[39m \u001b[34mmodeldata   \u001b[39m 1.0.0     \u001b[32m✔\u001b[39m \u001b[34mworkflowsets\u001b[39m 1.0.0\n",
      "\u001b[32m✔\u001b[39m \u001b[34mparsnip     \u001b[39m 1.0.0     \u001b[32m✔\u001b[39m \u001b[34myardstick   \u001b[39m 1.0.0\n",
      "\u001b[32m✔\u001b[39m \u001b[34mrecipes     \u001b[39m 1.0.1     \n",
      "\n",
      "── \u001b[1mConflicts\u001b[22m ───────────────────────────────────────── tidymodels_conflicts() ──\n",
      "\u001b[31m✖\u001b[39m \u001b[34mscales\u001b[39m::\u001b[32mdiscard()\u001b[39m masks \u001b[34mpurrr\u001b[39m::discard()\n",
      "\u001b[31m✖\u001b[39m \u001b[34mdplyr\u001b[39m::\u001b[32mfilter()\u001b[39m   masks \u001b[34mstats\u001b[39m::filter()\n",
      "\u001b[31m✖\u001b[39m \u001b[34mrecipes\u001b[39m::\u001b[32mfixed()\u001b[39m  masks \u001b[34mstringr\u001b[39m::fixed()\n",
      "\u001b[31m✖\u001b[39m \u001b[34mdplyr\u001b[39m::\u001b[32mlag()\u001b[39m      masks \u001b[34mstats\u001b[39m::lag()\n",
      "\u001b[31m✖\u001b[39m \u001b[34myardstick\u001b[39m::\u001b[32mspec()\u001b[39m masks \u001b[34mreadr\u001b[39m::spec()\n",
      "\u001b[31m✖\u001b[39m \u001b[34mrecipes\u001b[39m::\u001b[32mstep()\u001b[39m   masks \u001b[34mstats\u001b[39m::step()\n",
      "\u001b[34m•\u001b[39m Use suppressPackageStartupMessages() to eliminate package startup messages\n",
      "\n",
      "\n",
      "Attaching package: ‘gridExtra’\n",
      "\n",
      "\n",
      "The following object is masked from ‘package:dplyr’:\n",
      "\n",
      "    combine\n",
      "\n",
      "\n"
     ]
    }
   ],
   "source": [
    "#load libraries\n",
    "library(tidyverse)\n",
    "library(repr)\n",
    "library(tidymodels)\n",
    "library(ggplot2)\n",
    "library(gridExtra)\n",
    "library(stringr)"
   ]
  },
  {
   "cell_type": "code",
   "execution_count": 2,
   "id": "78fda030-5c65-462b-a1b0-5797e061e8aa",
   "metadata": {},
   "outputs": [
    {
     "name": "stderr",
     "output_type": "stream",
     "text": [
      "\u001b[1m\u001b[22mNew names:\n",
      "\u001b[36m•\u001b[39m `` -> `...1`\n",
      "\u001b[1mRows: \u001b[22m\u001b[34m6866\u001b[39m \u001b[1mColumns: \u001b[22m\u001b[34m50\u001b[39m\n",
      "\u001b[36m──\u001b[39m \u001b[1mColumn specification\u001b[22m \u001b[36m────────────────────────────────────────────────────────\u001b[39m\n",
      "\u001b[1mDelimiter:\u001b[22m \",\"\n",
      "\u001b[31mchr\u001b[39m (16): tourney_id, tourney_name, surface, tourney_level, winner_seed, win...\n",
      "\u001b[32mdbl\u001b[39m (34): ...1, draw_size, tourney_date, match_num, winner_id, winner_ht, wi...\n",
      "\n",
      "\u001b[36mℹ\u001b[39m Use `spec()` to retrieve the full column specification for this data.\n",
      "\u001b[36mℹ\u001b[39m Specify the column types or set `show_col_types = FALSE` to quiet this message.\n"
     ]
    }
   ],
   "source": [
    "#using the read_csv function to load data from web\n",
    "tennis <- read_csv(\"https://drive.google.com/uc?export=download&id=1fOQ8sy_qMkQiQEAO6uFdRX4tLI8EpSTn\")"
   ]
  },
  {
   "cell_type": "markdown",
   "id": "bfaaf90b-43b1-4bd6-b201-b934ad46b640",
   "metadata": {},
   "source": [
    "Next, we filter the data to select columns including winner_age, loser_age, surface, loser_rank, winner_rank, and minutes, and the \"surface\" column is use to create a new column called \"surface_type\" by using case_when function. Then the new \"surface_type\" column is select along the other selected columns. \n",
    "Afterthat, we filter out any rows that contain missing values for the selected columns by using the !is.na function.  "
   ]
  },
  {
   "cell_type": "code",
   "execution_count": 3,
   "id": "e28a1054-c25e-4542-9d88-4dd314d05800",
   "metadata": {},
   "outputs": [
    {
     "data": {
      "text/html": [
       "<table class=\"dataframe\">\n",
       "<caption>A tibble: 6 × 6</caption>\n",
       "<thead>\n",
       "\t<tr><th scope=col>surface_type</th><th scope=col>winner_age</th><th scope=col>loser_age</th><th scope=col>loser_rank</th><th scope=col>winner_rank</th><th scope=col>minutes</th></tr>\n",
       "\t<tr><th scope=col>&lt;fct&gt;</th><th scope=col>&lt;dbl&gt;</th><th scope=col>&lt;dbl&gt;</th><th scope=col>&lt;dbl&gt;</th><th scope=col>&lt;dbl&gt;</th><th scope=col>&lt;dbl&gt;</th></tr>\n",
       "</thead>\n",
       "<tbody>\n",
       "\t<tr><td>Hard</td><td>29.00479</td><td>22.88569</td><td> 16</td><td>  9</td><td>124</td></tr>\n",
       "\t<tr><td>Hard</td><td>22.88569</td><td>33.70568</td><td>239</td><td> 16</td><td> 82</td></tr>\n",
       "\t<tr><td>Hard</td><td>29.00479</td><td>31.88227</td><td> 40</td><td>  9</td><td> 66</td></tr>\n",
       "\t<tr><td>Hard</td><td>33.70568</td><td>19.86858</td><td> 31</td><td>239</td><td>106</td></tr>\n",
       "\t<tr><td>Hard</td><td>22.88569</td><td>28.01095</td><td> 18</td><td> 16</td><td>129</td></tr>\n",
       "\t<tr><td>Hard</td><td>31.88227</td><td>26.40383</td><td>185</td><td> 40</td><td>127</td></tr>\n",
       "</tbody>\n",
       "</table>\n"
      ],
      "text/latex": [
       "A tibble: 6 × 6\n",
       "\\begin{tabular}{llllll}\n",
       " surface\\_type & winner\\_age & loser\\_age & loser\\_rank & winner\\_rank & minutes\\\\\n",
       " <fct> & <dbl> & <dbl> & <dbl> & <dbl> & <dbl>\\\\\n",
       "\\hline\n",
       "\t Hard & 29.00479 & 22.88569 &  16 &   9 & 124\\\\\n",
       "\t Hard & 22.88569 & 33.70568 & 239 &  16 &  82\\\\\n",
       "\t Hard & 29.00479 & 31.88227 &  40 &   9 &  66\\\\\n",
       "\t Hard & 33.70568 & 19.86858 &  31 & 239 & 106\\\\\n",
       "\t Hard & 22.88569 & 28.01095 &  18 &  16 & 129\\\\\n",
       "\t Hard & 31.88227 & 26.40383 & 185 &  40 & 127\\\\\n",
       "\\end{tabular}\n"
      ],
      "text/markdown": [
       "\n",
       "A tibble: 6 × 6\n",
       "\n",
       "| surface_type &lt;fct&gt; | winner_age &lt;dbl&gt; | loser_age &lt;dbl&gt; | loser_rank &lt;dbl&gt; | winner_rank &lt;dbl&gt; | minutes &lt;dbl&gt; |\n",
       "|---|---|---|---|---|---|\n",
       "| Hard | 29.00479 | 22.88569 |  16 |   9 | 124 |\n",
       "| Hard | 22.88569 | 33.70568 | 239 |  16 |  82 |\n",
       "| Hard | 29.00479 | 31.88227 |  40 |   9 |  66 |\n",
       "| Hard | 33.70568 | 19.86858 |  31 | 239 | 106 |\n",
       "| Hard | 22.88569 | 28.01095 |  18 |  16 | 129 |\n",
       "| Hard | 31.88227 | 26.40383 | 185 |  40 | 127 |\n",
       "\n"
      ],
      "text/plain": [
       "  surface_type winner_age loser_age loser_rank winner_rank minutes\n",
       "1 Hard         29.00479   22.88569   16          9         124    \n",
       "2 Hard         22.88569   33.70568  239         16          82    \n",
       "3 Hard         29.00479   31.88227   40          9          66    \n",
       "4 Hard         33.70568   19.86858   31        239         106    \n",
       "5 Hard         22.88569   28.01095   18         16         129    \n",
       "6 Hard         31.88227   26.40383  185         40         127    "
      ]
     },
     "metadata": {},
     "output_type": "display_data"
    }
   ],
   "source": [
    "tennis_data <- tennis %>%\n",
    "  select(winner_age, loser_age, surface,loser_rank, winner_rank, minutes) %>%\n",
    "  mutate(surface_type = case_when(\n",
    "    surface == \"Hard\" ~ \"Hard\",\n",
    "    surface == \"Clay\" ~ \"Clay\",\n",
    "    surface == \"Grass\" ~ \"Grass\",\n",
    "    TRUE ~ NA_character_\n",
    "  )) %>%\n",
    "  mutate(surface_type = as_factor(surface_type)) %>%\n",
    "  select(surface_type, winner_age, loser_age, loser_rank, winner_rank, minutes) %>%\n",
    "  filter(!is.na(winner_age) & !is.na(loser_age) & !is.na(surface_type) & \n",
    "         !is.na(loser_rank) & !is.na(winner_rank) & !is.na(minutes))\n",
    "\n",
    "head(tennis_data)"
   ]
  },
  {
   "cell_type": "markdown",
   "id": "77becea2-252b-4cdf-98a1-270ccd910255",
   "metadata": {},
   "source": [
    "Then, we first use the initial_split function to separate the data to training and test sets. We specify that prop = 0.75 so that 75% of our original data set ends up in the training set, and the split was stratified based on surface_type, to ensure that the training and testing subsets contain the right proportions of each category of observation. We can see from glimpse in the code that the training set contains 5040 observations, while the test set contains 1682 observations. This corresponds to a train / test split of 75% / 25%, as desired. "
   ]
  },
  {
   "cell_type": "code",
   "execution_count": 4,
   "id": "158e4872-8f14-4536-9690-1dde808f56a8",
   "metadata": {},
   "outputs": [
    {
     "name": "stdout",
     "output_type": "stream",
     "text": [
      "Rows: 5,040\n",
      "Columns: 6\n",
      "$ surface_type \u001b[3m\u001b[90m<fct>\u001b[39m\u001b[23m Clay, Clay, Clay, Clay, Clay, Clay, Clay, Clay, Clay, Cla…\n",
      "$ winner_age   \u001b[3m\u001b[90m<dbl>\u001b[39m\u001b[23m 25.47296, 28.72005, 25.47296, 25.47296, 28.33402, 33.0924…\n",
      "$ loser_age    \u001b[3m\u001b[90m<dbl>\u001b[39m\u001b[23m 28.72005, 33.09240, 28.33402, 23.81656, 21.75222, 35.0417…\n",
      "$ loser_rank   \u001b[3m\u001b[90m<dbl>\u001b[39m\u001b[23m 59, 92, 77, 280, 81, 43, 168, 71, 23, 74, 76, 149, 116, 4…\n",
      "$ winner_rank  \u001b[3m\u001b[90m<dbl>\u001b[39m\u001b[23m 112, 59, 112, 112, 77, 92, 20, 59, 280, 77, 65, 92, 71, 1…\n",
      "$ minutes      \u001b[3m\u001b[90m<dbl>\u001b[39m\u001b[23m 123, 112, 60, 108, 116, 82, 141, 125, 71, 165, 86, 83, 15…\n",
      "Rows: 1,682\n",
      "Columns: 6\n",
      "$ surface_type \u001b[3m\u001b[90m<fct>\u001b[39m\u001b[23m Hard, Hard, Hard, Hard, Hard, Hard, Hard, Hard, Hard, Har…\n",
      "$ winner_age   \u001b[3m\u001b[90m<dbl>\u001b[39m\u001b[23m 29.00479, 31.63039, 27.62765, 26.37098, 23.22245, 23.5455…\n",
      "$ loser_age    \u001b[3m\u001b[90m<dbl>\u001b[39m\u001b[23m 22.88569, 26.94319, 23.26078, 21.17454, 31.73717, 29.4620…\n",
      "$ loser_rank   \u001b[3m\u001b[90m<dbl>\u001b[39m\u001b[23m 16, 234, 75, 49, 50, 59, 100, 30, 132, 149, 120, 96, 82, …\n",
      "$ winner_rank  \u001b[3m\u001b[90m<dbl>\u001b[39m\u001b[23m 9, 240, 19, 63, 43, 74, 6, 6, 45, 89, 52, 132, 97, 95, 50…\n",
      "$ minutes      \u001b[3m\u001b[90m<dbl>\u001b[39m\u001b[23m 124, 88, 79, 144, 158, 55, 164, 108, 166, 137, 87, 117, 1…\n"
     ]
    }
   ],
   "source": [
    "set.seed(999)\n",
    "tennis_split <- initial_split(tennis_data, prop = 0.75, strata = surface_type)  \n",
    "tennis_train <- training(tennis_split)   \n",
    "tennis_test <- testing(tennis_split)\n",
    "glimpse(tennis_train)\n",
    "glimpse(tennis_test)"
   ]
  },
  {
   "cell_type": "code",
   "execution_count": 5,
   "id": "c909f153-987e-4fdd-8026-a98d4147593e",
   "metadata": {},
   "outputs": [
    {
     "data": {
      "text/html": [
       "<table class=\"dataframe\">\n",
       "<caption>A tibble: 3 × 3</caption>\n",
       "<thead>\n",
       "\t<tr><th scope=col>surface_type</th><th scope=col>n</th><th scope=col>percent</th></tr>\n",
       "\t<tr><th scope=col>&lt;fct&gt;</th><th scope=col>&lt;int&gt;</th><th scope=col>&lt;dbl&gt;</th></tr>\n",
       "</thead>\n",
       "<tbody>\n",
       "\t<tr><td>Hard </td><td>2900</td><td>57.53968</td></tr>\n",
       "\t<tr><td>Clay </td><td>1537</td><td>30.49603</td></tr>\n",
       "\t<tr><td>Grass</td><td> 603</td><td>11.96429</td></tr>\n",
       "</tbody>\n",
       "</table>\n"
      ],
      "text/latex": [
       "A tibble: 3 × 3\n",
       "\\begin{tabular}{lll}\n",
       " surface\\_type & n & percent\\\\\n",
       " <fct> & <int> & <dbl>\\\\\n",
       "\\hline\n",
       "\t Hard  & 2900 & 57.53968\\\\\n",
       "\t Clay  & 1537 & 30.49603\\\\\n",
       "\t Grass &  603 & 11.96429\\\\\n",
       "\\end{tabular}\n"
      ],
      "text/markdown": [
       "\n",
       "A tibble: 3 × 3\n",
       "\n",
       "| surface_type &lt;fct&gt; | n &lt;int&gt; | percent &lt;dbl&gt; |\n",
       "|---|---|---|\n",
       "| Hard  | 2900 | 57.53968 |\n",
       "| Clay  | 1537 | 30.49603 |\n",
       "| Grass |  603 | 11.96429 |\n",
       "\n"
      ],
      "text/plain": [
       "  surface_type n    percent \n",
       "1 Hard         2900 57.53968\n",
       "2 Clay         1537 30.49603\n",
       "3 Grass         603 11.96429"
      ]
     },
     "metadata": {},
     "output_type": "display_data"
    }
   ],
   "source": [
    "set.seed(999)\n",
    "tennis_proportions <- tennis_train |>\n",
    "                      group_by(surface_type) |>\n",
    "                      summarize(n = n()) |>\n",
    "                      mutate(percent = 100*n/nrow(tennis_train))\n",
    "\n",
    "tennis_proportions"
   ]
  },
  {
   "cell_type": "code",
   "execution_count": 6,
   "id": "ced592a3-8095-4252-bb44-920d666fe007",
   "metadata": {},
   "outputs": [],
   "source": [
    "set.seed(999) \n",
    "knn_spec <- nearest_neighbor(weight_func = \"rectangular\", neighbors = tune()) |>\n",
    "  set_engine(\"kknn\") |>\n",
    "  set_mode(\"classification\")\n",
    "\n",
    "tennis_recipe <- recipe(surface_type ~., data = tennis_train) |>\n",
    "  step_scale(all_predictors()) |>\n",
    "  step_center(all_predictors())\n",
    "\n",
    "tennis_vfold <- vfold_cv(tennis_train, v = 5, strata = surface_type)"
   ]
  },
  {
   "cell_type": "code",
   "execution_count": 8,
   "id": "e9adb168-129e-44dc-9e62-f35928105bd4",
   "metadata": {},
   "outputs": [
    {
     "data": {
      "text/html": [
       "<table class=\"dataframe\">\n",
       "<caption>A tibble: 10 × 7</caption>\n",
       "<thead>\n",
       "\t<tr><th scope=col>neighbors</th><th scope=col>.metric</th><th scope=col>.estimator</th><th scope=col>mean</th><th scope=col>n</th><th scope=col>std_err</th><th scope=col>.config</th></tr>\n",
       "\t<tr><th scope=col>&lt;int&gt;</th><th scope=col>&lt;chr&gt;</th><th scope=col>&lt;chr&gt;</th><th scope=col>&lt;dbl&gt;</th><th scope=col>&lt;int&gt;</th><th scope=col>&lt;dbl&gt;</th><th scope=col>&lt;chr&gt;</th></tr>\n",
       "</thead>\n",
       "<tbody>\n",
       "\t<tr><td> 2</td><td>accuracy</td><td>multiclass</td><td>0.4557531</td><td>5</td><td>0.006052361</td><td>Preprocessor1_Model01</td></tr>\n",
       "\t<tr><td> 3</td><td>accuracy</td><td>multiclass</td><td>0.4885021</td><td>5</td><td>0.007130166</td><td>Preprocessor1_Model02</td></tr>\n",
       "\t<tr><td> 4</td><td>accuracy</td><td>multiclass</td><td>0.4994122</td><td>5</td><td>0.005009073</td><td>Preprocessor1_Model03</td></tr>\n",
       "\t<tr><td> 6</td><td>accuracy</td><td>multiclass</td><td>0.5107200</td><td>5</td><td>0.004001829</td><td>Preprocessor1_Model04</td></tr>\n",
       "\t<tr><td> 7</td><td>accuracy</td><td>multiclass</td><td>0.5212367</td><td>5</td><td>0.004070905</td><td>Preprocessor1_Model05</td></tr>\n",
       "\t<tr><td> 8</td><td>accuracy</td><td>multiclass</td><td>0.5259984</td><td>5</td><td>0.004377584</td><td>Preprocessor1_Model06</td></tr>\n",
       "\t<tr><td>10</td><td>accuracy</td><td>multiclass</td><td>0.5440547</td><td>5</td><td>0.004774066</td><td>Preprocessor1_Model07</td></tr>\n",
       "\t<tr><td>12</td><td>accuracy</td><td>multiclass</td><td>0.5494107</td><td>5</td><td>0.006156587</td><td>Preprocessor1_Model08</td></tr>\n",
       "\t<tr><td>13</td><td>accuracy</td><td>multiclass</td><td>0.5482161</td><td>5</td><td>0.003865971</td><td>Preprocessor1_Model09</td></tr>\n",
       "\t<tr><td>14</td><td>accuracy</td><td>multiclass</td><td>0.5501994</td><td>5</td><td>0.005847750</td><td>Preprocessor1_Model10</td></tr>\n",
       "</tbody>\n",
       "</table>\n"
      ],
      "text/latex": [
       "A tibble: 10 × 7\n",
       "\\begin{tabular}{lllllll}\n",
       " neighbors & .metric & .estimator & mean & n & std\\_err & .config\\\\\n",
       " <int> & <chr> & <chr> & <dbl> & <int> & <dbl> & <chr>\\\\\n",
       "\\hline\n",
       "\t  2 & accuracy & multiclass & 0.4557531 & 5 & 0.006052361 & Preprocessor1\\_Model01\\\\\n",
       "\t  3 & accuracy & multiclass & 0.4885021 & 5 & 0.007130166 & Preprocessor1\\_Model02\\\\\n",
       "\t  4 & accuracy & multiclass & 0.4994122 & 5 & 0.005009073 & Preprocessor1\\_Model03\\\\\n",
       "\t  6 & accuracy & multiclass & 0.5107200 & 5 & 0.004001829 & Preprocessor1\\_Model04\\\\\n",
       "\t  7 & accuracy & multiclass & 0.5212367 & 5 & 0.004070905 & Preprocessor1\\_Model05\\\\\n",
       "\t  8 & accuracy & multiclass & 0.5259984 & 5 & 0.004377584 & Preprocessor1\\_Model06\\\\\n",
       "\t 10 & accuracy & multiclass & 0.5440547 & 5 & 0.004774066 & Preprocessor1\\_Model07\\\\\n",
       "\t 12 & accuracy & multiclass & 0.5494107 & 5 & 0.006156587 & Preprocessor1\\_Model08\\\\\n",
       "\t 13 & accuracy & multiclass & 0.5482161 & 5 & 0.003865971 & Preprocessor1\\_Model09\\\\\n",
       "\t 14 & accuracy & multiclass & 0.5501994 & 5 & 0.005847750 & Preprocessor1\\_Model10\\\\\n",
       "\\end{tabular}\n"
      ],
      "text/markdown": [
       "\n",
       "A tibble: 10 × 7\n",
       "\n",
       "| neighbors &lt;int&gt; | .metric &lt;chr&gt; | .estimator &lt;chr&gt; | mean &lt;dbl&gt; | n &lt;int&gt; | std_err &lt;dbl&gt; | .config &lt;chr&gt; |\n",
       "|---|---|---|---|---|---|---|\n",
       "|  2 | accuracy | multiclass | 0.4557531 | 5 | 0.006052361 | Preprocessor1_Model01 |\n",
       "|  3 | accuracy | multiclass | 0.4885021 | 5 | 0.007130166 | Preprocessor1_Model02 |\n",
       "|  4 | accuracy | multiclass | 0.4994122 | 5 | 0.005009073 | Preprocessor1_Model03 |\n",
       "|  6 | accuracy | multiclass | 0.5107200 | 5 | 0.004001829 | Preprocessor1_Model04 |\n",
       "|  7 | accuracy | multiclass | 0.5212367 | 5 | 0.004070905 | Preprocessor1_Model05 |\n",
       "|  8 | accuracy | multiclass | 0.5259984 | 5 | 0.004377584 | Preprocessor1_Model06 |\n",
       "| 10 | accuracy | multiclass | 0.5440547 | 5 | 0.004774066 | Preprocessor1_Model07 |\n",
       "| 12 | accuracy | multiclass | 0.5494107 | 5 | 0.006156587 | Preprocessor1_Model08 |\n",
       "| 13 | accuracy | multiclass | 0.5482161 | 5 | 0.003865971 | Preprocessor1_Model09 |\n",
       "| 14 | accuracy | multiclass | 0.5501994 | 5 | 0.005847750 | Preprocessor1_Model10 |\n",
       "\n"
      ],
      "text/plain": [
       "   neighbors .metric  .estimator mean      n std_err     .config              \n",
       "1   2        accuracy multiclass 0.4557531 5 0.006052361 Preprocessor1_Model01\n",
       "2   3        accuracy multiclass 0.4885021 5 0.007130166 Preprocessor1_Model02\n",
       "3   4        accuracy multiclass 0.4994122 5 0.005009073 Preprocessor1_Model03\n",
       "4   6        accuracy multiclass 0.5107200 5 0.004001829 Preprocessor1_Model04\n",
       "5   7        accuracy multiclass 0.5212367 5 0.004070905 Preprocessor1_Model05\n",
       "6   8        accuracy multiclass 0.5259984 5 0.004377584 Preprocessor1_Model06\n",
       "7  10        accuracy multiclass 0.5440547 5 0.004774066 Preprocessor1_Model07\n",
       "8  12        accuracy multiclass 0.5494107 5 0.006156587 Preprocessor1_Model08\n",
       "9  13        accuracy multiclass 0.5482161 5 0.003865971 Preprocessor1_Model09\n",
       "10 14        accuracy multiclass 0.5501994 5 0.005847750 Preprocessor1_Model10"
      ]
     },
     "metadata": {},
     "output_type": "display_data"
    }
   ],
   "source": [
    "set.seed(999) \n",
    "\n",
    "knn_results <- workflow() |>\n",
    "                 add_recipe(tennis_recipe) |>\n",
    "                 add_model(knn_spec) |>\n",
    "                 tune_grid(resamples = tennis_vfold, grid = 10) |>\n",
    "                 collect_metrics()\n",
    "\n",
    "accuracies <- knn_results |>\n",
    "                 filter(.metric == 'accuracy')\n",
    "accuracies"
   ]
  },
  {
   "cell_type": "code",
   "execution_count": 9,
   "id": "c9e2352c-80fe-4bb0-8371-c37a7d202f2f",
   "metadata": {},
   "outputs": [
    {
     "data": {
      "image/png": "[encoded data removed]",
      "text/plain": [
       "plot without title"
      ]
     },
     "metadata": {
      "image/png": {
       "height": 300,
       "width": 360
      }
     },
     "output_type": "display_data"
    }
   ],
   "source": [
    "set.seed(999) \n",
    "options(repr.plot.height = 5, repr.plot.width = 6)\n",
    "accuracy_vs_k <- ggplot(accuracies, aes(x = neighbors, y = mean)) +\n",
    "                  geom_point() +\n",
    "                  geom_line() +\n",
    "                  labs(x = 'Neighbors', y = 'Accuracy Estimate') +\n",
    "                  theme(text = element_text(size = 12))\n",
    "\n",
    "accuracy_vs_k"
   ]
  },
  {
   "cell_type": "code",
   "execution_count": 11,
   "id": "ce0508a9-7ba7-423d-9c8b-759e0d3fe5e5",
   "metadata": {},
   "outputs": [
    {
     "data": {
      "text/plain": [
       "══ Workflow [trained] ══════════════════════════════════════════════════════════\n",
       "\u001b[3mPreprocessor:\u001b[23m Recipe\n",
       "\u001b[3mModel:\u001b[23m nearest_neighbor()\n",
       "\n",
       "── Preprocessor ────────────────────────────────────────────────────────────────\n",
       "2 Recipe Steps\n",
       "\n",
       "• step_scale()\n",
       "• step_center()\n",
       "\n",
       "── Model ───────────────────────────────────────────────────────────────────────\n",
       "\n",
       "Call:\n",
       "kknn::train.kknn(formula = ..y ~ ., data = data, ks = min_rows(18,     data, 5), kernel = ~\"rectangular\")\n",
       "\n",
       "Type of response variable: nominal\n",
       "Minimal misclassification: 0.4418651\n",
       "Best kernel: rectangular\n",
       "Best k: 18"
      ]
     },
     "metadata": {},
     "output_type": "display_data"
    }
   ],
   "source": [
    "knn_spec <- nearest_neighbor(weight_func = \"rectangular\", neighbors = 18) |>\n",
    "  set_engine(\"kknn\") |>\n",
    "  set_mode(\"classification\")\n",
    "\n",
    "knn_fit <- workflow() |>\n",
    "             add_recipe(tennis_recipe) |>\n",
    "             add_model(knn_spec) |>\n",
    "            fit(data = tennis_train)\n",
    "knn_fit"
   ]
  },
  {
   "cell_type": "code",
   "execution_count": 14,
   "id": "48875836-9493-479f-8271-1645b8d211d2",
   "metadata": {},
   "outputs": [
    {
     "data": {
      "text/html": [
       "<table class=\"dataframe\">\n",
       "<caption>A tibble: 6 × 7</caption>\n",
       "<thead>\n",
       "\t<tr><th scope=col>.pred_class</th><th scope=col>surface_type</th><th scope=col>winner_age</th><th scope=col>loser_age</th><th scope=col>loser_rank</th><th scope=col>winner_rank</th><th scope=col>minutes</th></tr>\n",
       "\t<tr><th scope=col>&lt;fct&gt;</th><th scope=col>&lt;fct&gt;</th><th scope=col>&lt;dbl&gt;</th><th scope=col>&lt;dbl&gt;</th><th scope=col>&lt;dbl&gt;</th><th scope=col>&lt;dbl&gt;</th><th scope=col>&lt;dbl&gt;</th></tr>\n",
       "</thead>\n",
       "<tbody>\n",
       "\t<tr><td>Hard</td><td>Hard</td><td>29.00479</td><td>22.88569</td><td> 16</td><td>  9</td><td>124</td></tr>\n",
       "\t<tr><td>Hard</td><td>Hard</td><td>31.63039</td><td>26.94319</td><td>234</td><td>240</td><td> 88</td></tr>\n",
       "\t<tr><td>Hard</td><td>Hard</td><td>27.62765</td><td>23.26078</td><td> 75</td><td> 19</td><td> 79</td></tr>\n",
       "\t<tr><td>Hard</td><td>Hard</td><td>26.37098</td><td>21.17454</td><td> 49</td><td> 63</td><td>144</td></tr>\n",
       "\t<tr><td>Hard</td><td>Hard</td><td>23.22245</td><td>31.73717</td><td> 50</td><td> 43</td><td>158</td></tr>\n",
       "\t<tr><td>Hard</td><td>Hard</td><td>23.54552</td><td>29.46201</td><td> 59</td><td> 74</td><td> 55</td></tr>\n",
       "</tbody>\n",
       "</table>\n"
      ],
      "text/latex": [
       "A tibble: 6 × 7\n",
       "\\begin{tabular}{lllllll}\n",
       " .pred\\_class & surface\\_type & winner\\_age & loser\\_age & loser\\_rank & winner\\_rank & minutes\\\\\n",
       " <fct> & <fct> & <dbl> & <dbl> & <dbl> & <dbl> & <dbl>\\\\\n",
       "\\hline\n",
       "\t Hard & Hard & 29.00479 & 22.88569 &  16 &   9 & 124\\\\\n",
       "\t Hard & Hard & 31.63039 & 26.94319 & 234 & 240 &  88\\\\\n",
       "\t Hard & Hard & 27.62765 & 23.26078 &  75 &  19 &  79\\\\\n",
       "\t Hard & Hard & 26.37098 & 21.17454 &  49 &  63 & 144\\\\\n",
       "\t Hard & Hard & 23.22245 & 31.73717 &  50 &  43 & 158\\\\\n",
       "\t Hard & Hard & 23.54552 & 29.46201 &  59 &  74 &  55\\\\\n",
       "\\end{tabular}\n"
      ],
      "text/markdown": [
       "\n",
       "A tibble: 6 × 7\n",
       "\n",
       "| .pred_class &lt;fct&gt; | surface_type &lt;fct&gt; | winner_age &lt;dbl&gt; | loser_age &lt;dbl&gt; | loser_rank &lt;dbl&gt; | winner_rank &lt;dbl&gt; | minutes &lt;dbl&gt; |\n",
       "|---|---|---|---|---|---|---|\n",
       "| Hard | Hard | 29.00479 | 22.88569 |  16 |   9 | 124 |\n",
       "| Hard | Hard | 31.63039 | 26.94319 | 234 | 240 |  88 |\n",
       "| Hard | Hard | 27.62765 | 23.26078 |  75 |  19 |  79 |\n",
       "| Hard | Hard | 26.37098 | 21.17454 |  49 |  63 | 144 |\n",
       "| Hard | Hard | 23.22245 | 31.73717 |  50 |  43 | 158 |\n",
       "| Hard | Hard | 23.54552 | 29.46201 |  59 |  74 |  55 |\n",
       "\n"
      ],
      "text/plain": [
       "  .pred_class surface_type winner_age loser_age loser_rank winner_rank minutes\n",
       "1 Hard        Hard         29.00479   22.88569   16          9         124    \n",
       "2 Hard        Hard         31.63039   26.94319  234        240          88    \n",
       "3 Hard        Hard         27.62765   23.26078   75         19          79    \n",
       "4 Hard        Hard         26.37098   21.17454   49         63         144    \n",
       "5 Hard        Hard         23.22245   31.73717   50         43         158    \n",
       "6 Hard        Hard         23.54552   29.46201   59         74          55    "
      ]
     },
     "metadata": {},
     "output_type": "display_data"
    },
    {
     "data": {
      "text/html": [
       "<table class=\"dataframe\">\n",
       "<caption>A tibble: 1 × 3</caption>\n",
       "<thead>\n",
       "\t<tr><th scope=col>.metric</th><th scope=col>.estimator</th><th scope=col>.estimate</th></tr>\n",
       "\t<tr><th scope=col>&lt;chr&gt;</th><th scope=col>&lt;chr&gt;</th><th scope=col>&lt;dbl&gt;</th></tr>\n",
       "</thead>\n",
       "<tbody>\n",
       "\t<tr><td>accuracy</td><td>multiclass</td><td>0.5558859</td></tr>\n",
       "</tbody>\n",
       "</table>\n"
      ],
      "text/latex": [
       "A tibble: 1 × 3\n",
       "\\begin{tabular}{lll}\n",
       " .metric & .estimator & .estimate\\\\\n",
       " <chr> & <chr> & <dbl>\\\\\n",
       "\\hline\n",
       "\t accuracy & multiclass & 0.5558859\\\\\n",
       "\\end{tabular}\n"
      ],
      "text/markdown": [
       "\n",
       "A tibble: 1 × 3\n",
       "\n",
       "| .metric &lt;chr&gt; | .estimator &lt;chr&gt; | .estimate &lt;dbl&gt; |\n",
       "|---|---|---|\n",
       "| accuracy | multiclass | 0.5558859 |\n",
       "\n"
      ],
      "text/plain": [
       "  .metric  .estimator .estimate\n",
       "1 accuracy multiclass 0.5558859"
      ]
     },
     "metadata": {},
     "output_type": "display_data"
    },
    {
     "data": {
      "text/plain": [
       "          Truth\n",
       "Prediction Hard Clay Grass\n",
       "     Hard   851  426   182\n",
       "     Clay   113   84    20\n",
       "     Grass    3    3     0"
      ]
     },
     "metadata": {},
     "output_type": "display_data"
    }
   ],
   "source": [
    "set.seed(9999) \n",
    "\n",
    "# your code here\n",
    "tennis_predictions <- predict(knn_fit, tennis_test) |>\n",
    "bind_cols(tennis_test)\n",
    "tennis_metrics <- tennis_predictions |>\n",
    "         metrics(truth = surface_type, estimate = .pred_class) |>\n",
    "  filter(.metric == \"accuracy\")\n",
    "tennis_mat <- tennis_predictions |>\n",
    "         conf_mat(truth = surface_type, estimate = .pred_class)\n",
    "head(tennis_predictions)\n",
    "tennis_metrics\n",
    "tennis_mat"
   ]
  },
  {
   "cell_type": "markdown",
   "id": "a81b0a35-b10b-4ff5-b10a-48c523447434",
   "metadata": {},
   "source": [
    "The mean and standard deviation of winner_age, loser_age, winner_rank, loser_rank, and minutes were calculated for each surface_type using the summarize function. "
   ]
  },
  {
   "cell_type": "code",
   "execution_count": null,
   "id": "fd0b93af-2869-48cd-a20d-6c304ae8801d",
   "metadata": {},
   "outputs": [],
   "source": [
    "set.seed(999)\n",
    "tennis_summary_avg <- tennis_train %>%\n",
    "  group_by(surface_type) %>%\n",
    "  summarize(\n",
    "    avg_winner_age = mean(winner_age),\n",
    "    avg_loser_age = mean(loser_age),\n",
    "    avg_winner_rank = mean(winner_rank),\n",
    "    avg_loser_rank = mean(loser_rank),\n",
    "    avg_minutes = mean(minutes)\n",
    "  )\n",
    "\n",
    "tennis_summary_avg\n",
    "\n",
    "tennis_summary_sd <- tennis_train %>%\n",
    "  group_by(surface_type) %>%\n",
    "  summarize(\n",
    "    sd_winner_age = sd(winner_age),\n",
    "    sd_loser_age = sd(loser_age),\n",
    "    sd_winner_rank = sd(winner_rank),\n",
    "    sd_loser_rank = sd(loser_rank),\n",
    "    sd_minutes = sd(minutes)\n",
    "  )\n",
    "\n",
    "tennis_summary_sd"
   ]
  },
  {
   "cell_type": "markdown",
   "id": "bd2d0dfa-b24f-4874-98f2-2ab68af43032",
   "metadata": {},
   "source": [
    "A scatter plot was created using the ggplot function. The plot shows the corralation between loser_age and loser_rank on the x and y axes, respectively, and between winner_age and winner_rank using different colors for each group. "
   ]
  },
  {
   "cell_type": "code",
   "execution_count": null,
   "id": "36c6d53b-21da-468b-9dbc-996e23f38960",
   "metadata": {},
   "outputs": [],
   "source": [
    "set.seed(999)\n",
    "options(repr.plot.width = 10, repr.plot.height = 8)\n",
    "\n",
    "ggplot(tennis_train) +\n",
    "  geom_point(aes(x = loser_age, y = loser_rank, color = \"Loser\")) +\n",
    "  geom_point(aes(x = winner_age, y = winner_rank, color = \"Winner\")) +\n",
    "  scale_color_manual(values = c(\"Loser\" = \"blue\", \"Winner\" = \"red\")) +\n",
    "  xlab(\"Age\") +\n",
    "  ylab(\"Rank\") +\n",
    "  theme_bw() +\n",
    "  theme( text = element_text(size = 20))\n"
   ]
  },
  {
   "cell_type": "markdown",
   "id": "0194fb5f-26be-4ffa-a4c0-d2b5b974b9ee",
   "metadata": {},
   "source": [
    "Line plots were created for each surface_type using ggplot function. Each plot shows the distribution of minutes by winner_age for each surface type. "
   ]
  },
  {
   "cell_type": "code",
   "execution_count": null,
   "id": "7e340494-ff31-48c9-bfa2-62f841ed1b05",
   "metadata": {},
   "outputs": [],
   "source": [
    "set.seed(999)\n",
    "# hard surface\n",
    "hard_plot <- ggplot(data = filter(tennis_train, surface_type == \"Hard\"),\n",
    "                    aes(x = winner_age, y = minutes)) +\n",
    "  geom_line() +\n",
    "  labs(title = \"Hard Surface\",\n",
    "       x = \"Winner Age\",\n",
    "       y = \"Minutes\")\n",
    "\n",
    "# clay surface\n",
    "clay_plot <- ggplot(data = filter(tennis_train, surface_type == \"Clay\"),\n",
    "                    aes(x = winner_age, y = minutes)) +\n",
    "  geom_line() +\n",
    "  labs(title = \"Clay Surface\",\n",
    "       x = \"Winner Age\",\n",
    "       y = \"Minutes\")\n",
    "\n",
    "# grass surface\n",
    "grass_plot <- ggplot(data = filter(tennis_train, surface_type == \"Grass\"),\n",
    "                     aes(x = winner_age, y = minutes)) +\n",
    "  geom_line() +\n",
    "  labs(title = \"Grass Surface\",\n",
    "       x = \"Winner Age\",\n",
    "       y = \"Minutes\")\n",
    "\n",
    "hard_plot\n",
    "clay_plot\n",
    "grass_plot"
   ]
  },
  {
   "cell_type": "markdown",
   "id": "9b026f4c-b3fc-4d64-b1d6-eab10b9e70c2",
   "metadata": {},
   "source": [
    "A box plot was created using ggplot function to compare the distribution of minutes across surface_type. The plot shows the median, quartiles, and outliers of the minutes distribution for each surface_type."
   ]
  },
  {
   "cell_type": "code",
   "execution_count": null,
   "id": "e0a77d50-c55f-4ed6-9ea0-90a125c662d7",
   "metadata": {},
   "outputs": [],
   "source": [
    "set.seed(999)\n",
    "minutes_plot <- ggplot(tennis_train, aes(x = surface_type, y = minutes)) +\n",
    "  geom_boxplot() +\n",
    "  xlab(\"Surface Type\") +\n",
    "  ylab(\"Minutes\") +\n",
    "  theme_bw() +\n",
    "  theme(text = element_text(size = 20))\n",
    "\n",
    "minutes_plot"
   ]
  },
  {
   "cell_type": "code",
   "execution_count": null,
   "id": "6019f857-ae0c-4ad9-9776-d2db588036af",
   "metadata": {},
   "outputs": [],
   "source": []
  }
 ],
 "metadata": {
  "kernelspec": {
   "display_name": "R",
   "language": "R",
   "name": "ir"
  },
  "language_info": {
   "codemirror_mode": "r",
   "file_extension": ".r",
   "mimetype": "text/x-r-source",
   "name": "R",
   "pygments_lexer": "r",
   "version": "4.1.3"
  }
 },
 "nbformat": 4,
 "nbformat_minor": 5
}
